{
 "cells": [
  {
   "cell_type": "markdown",
   "metadata": {},
   "source": [
    "# Overview\n",
    "\n",
    "We will:\n",
    "\n",
    "1. Estimate a production function using neural network \n",
    "2. Solve a optimization problem using the estimated function"
   ]
  },
  {
   "cell_type": "code",
   "execution_count": 103,
   "metadata": {},
   "outputs": [],
   "source": [
    "import tensorflow as tf\n",
    "import numpy as np\n",
    "import matplotlib.pyplot as plt\n",
    "import matplotlib.mlab as ml\n",
    "from sklearn.preprocessing import StandardScaler\n",
    "%matplotlib inline"
   ]
  },
  {
   "cell_type": "markdown",
   "metadata": {},
   "source": [
    "## Single input power production\n",
    "\n",
    "We will generate *i.i.d* samples of $(x_i, y_i)$ by the following procedure:\n",
    "\n",
    "1. $\\log x_i \\sim \\mathrm{Normal}(0, 1)$, $\\log(\\epsilon_i) \\sim \\mathrm{Normal}(0, 0.1)$\n",
    "2. $y_i = \\epsilon x_{i}^{\\alpha}$, where $\\alpha \\in (0, 1)$ is predetermined.\n",
    "\n",
    "Using the data $\\{(x_i, y_i)\\}_{i=1}^{n}$, we will estimate the function $f(x)$ that predicts $y$ by the neural network.\n",
    "\n",
    "Then, we will solve the following (unconstrained) maximization problem:\n",
    "\n",
    "$$\n",
    "\\mathrm{max}_{x}\\;\\; f(x) - p x\n",
    "$$\n",
    "where $p > 0$ is a known parameter that represents the input price. \n",
    "\n",
    "The solution with the true function with $\\epsilon=1$ is $x^* = \\left(\\frac{p}{\\alpha}\\right)^{\\frac{1}{\\alpha-1}}$.\n",
    "We expect that the optimization problem obtains a closer value to this.\n"
   ]
  },
  {
   "cell_type": "code",
   "execution_count": 8,
   "metadata": {},
   "outputs": [
    {
     "data": {
      "text/plain": [
       "<matplotlib.collections.PathCollection at 0x7f004ae0f7f0>"
      ]
     },
     "execution_count": 8,
     "metadata": {},
     "output_type": "execute_result"
    },
    {
     "data": {
      "image/png": "[encoded data removed]",
      "text/plain": [
       "<matplotlib.figure.Figure at 0x7f004ab15080>"
      ]
     },
     "metadata": {},
     "output_type": "display_data"
    }
   ],
   "source": [
    "# define data generating functions\n",
    "def power_product_func(x, epsilon, alpha):\n",
    "    y = epsilon * np.power(x, alpha)\n",
    "    return y\n",
    "\n",
    "def generate_power_data(n, alpha):\n",
    "    x = np.random.lognormal(0, 1, n)\n",
    "    eps = np.random.lognormal(0, 0.1, n)\n",
    "    y = power_product_func(x, eps, alpha)\n",
    "    return x, y\n",
    "\n",
    "# test\n",
    "np.random.seed(87)\n",
    "x, y = generate_power_data(100, 0.7)\n",
    "plt.scatter(x, y)"
   ]
  },
  {
   "cell_type": "code",
   "execution_count": 286,
   "metadata": {},
   "outputs": [],
   "source": [
    "# define estimating architecture\n",
    "tf.reset_default_graph()\n",
    "\n",
    "x_in = tf.placeholder(tf.float32, shape=[None, 1], name=\"x_in\")\n",
    "y_in = tf.placeholder(tf.float32, shape=[None, 1], name=\"y_in\")\n",
    "\n",
    "keep_prob = tf.placeholder_with_default(1.0, shape=(), name=\"keep_prob\")\n",
    "train_rate = tf.placeholder_with_default(0.2, shape=(), name=\"train_rate\")\n",
    "y_mean = tf.placeholder(tf.float32, shape=(), name=\"y_mean\")\n",
    "y_std  = tf.placeholder(tf.float32, shape=(), name=\"y_std\")\n",
    "\n",
    "\n",
    "## first hidden layer\n",
    "w1 = tf.get_variable(\"w1\", [1, 10], initializer=tf.contrib.layers.xavier_initializer())\n",
    "b1 = tf.get_variable(\"b1\", [1]     , initializer=tf.contrib.layers.xavier_initializer())\n",
    "a1 = tf.nn.relu(tf.matmul(x_in, w1) + b1)\n",
    "a1_drop = tf.nn.dropout(a1, keep_prob=keep_prob)\n",
    "\n",
    "## second hidden layer\n",
    "w2 = tf.get_variable(\"w2\", [10, 10], initializer=tf.contrib.layers.xavier_initializer())\n",
    "b2 = tf.get_variable(\"b2\", [1]     , initializer=tf.contrib.layers.xavier_initializer())\n",
    "a2 = tf.nn.relu(tf.matmul(a1_drop, w2) + b2)\n",
    "a2_drop = tf.nn.dropout(a2, keep_prob=keep_prob)\n",
    "\n",
    "## output layer\n",
    "w3 = tf.get_variable(\"w3\", [10, 1], initializer=tf.contrib.layers.xavier_initializer())\n",
    "b3 = tf.get_variable(\"b3\", [1]     , initializer=tf.contrib.layers.xavier_initializer())\n",
    "yhat = tf.matmul(a2_drop, w3) + b3\n",
    "\n",
    "## training\n",
    "loss  = tf.reduce_mean(tf.square(yhat - y_in))\n",
    "train = tf.train.GradientDescentOptimizer(train_rate).minimize(loss)\n",
    "\n",
    "## prediction in the original scale\n",
    "yhat_orig = yhat*y_std + y_mean"
   ]
  },
  {
   "cell_type": "code",
   "execution_count": 287,
   "metadata": {},
   "outputs": [],
   "source": [
    "# data prep\n",
    "np.random.seed(87)\n",
    "\n",
    "alpha = 0.7\n",
    "n_tr = 1000\n",
    "# training data\n",
    "x_tr, y_tr = generate_power_data(n_tr, alpha)\n",
    "# test data\n",
    "n_te = 250\n",
    "x_te, y_te = generate_power_data(n_te, alpha)\n",
    "\n",
    "# normalize x and y to mean zero and a unit variance\n",
    "# we will normalize training data to be mean 0 and unit variance\n",
    "# then apply the same conversion to the test data\n",
    "standardizer = StandardScaler()\n",
    "xy_tr = standardizer.fit_transform(np.vstack((x_tr, y_tr)).transpose())\n",
    "xy_te = standardizer.transform(np.vstack((x_te, y_te)).transpose())\n",
    "\n",
    "data = {x_in: xy_tr[:,0].reshape((n_tr, 1)), y_in: xy_tr[:,1].reshape((n_tr, 1)), \n",
    "        keep_prob: 0.7, train_rate: 0.1}\n",
    "data_te = {x_in: xy_te[:,0].reshape((n_te, 1)),\n",
    "           y_mean: standardizer.mean_[1], y_std: standardizer.var_[1]**0.5}"
   ]
  },
  {
   "cell_type": "code",
   "execution_count": 288,
   "metadata": {},
   "outputs": [
    {
     "name": "stdout",
     "output_type": "stream",
     "text": [
      "0 ) loss: 1.14952\n",
      "500 ) loss: 0.191199\n",
      "1000 ) loss: 0.147089\n",
      "1500 ) loss: 0.214928\n",
      "2000 ) loss: 0.126705\n",
      "2500 ) loss: 0.159594\n",
      "3000 ) loss: 0.1824\n",
      "3500 ) loss: 0.15743\n",
      "4000 ) loss: 0.130589\n",
      "4500 ) loss: 0.148584\n",
      "0.148521\n"
     ]
    }
   ],
   "source": [
    "tf.set_random_seed(875)\n",
    "nepoch = 5000\n",
    "with tf.Session() as sess:\n",
    "    sess.run(tf.global_variables_initializer())\n",
    "    for i in range(nepoch):\n",
    "        sess.run(train, data)\n",
    "        if i % (nepoch/10) == 0:\n",
    "            print(i, \") loss:\", sess.run(loss, data))\n",
    "            \n",
    "    print(sess.run(loss, data))\n",
    "\n",
    "    # generate test data and predictioni\n",
    "    yhat_te = sess.run(yhat_orig, data_te)\n",
    "    parameters = {'w1': w1.eval(), 'b1': b1.eval(), \n",
    "                  'w2': w2.eval(), 'b2': b2.eval(),\n",
    "                  'w3': w3.eval(), 'b3': b3.eval()}"
   ]
  },
  {
   "cell_type": "code",
   "execution_count": 289,
   "metadata": {},
   "outputs": [
    {
     "data": {
      "text/plain": [
       "<matplotlib.collections.PathCollection at 0x7f001386ee10>"
      ]
     },
     "execution_count": 289,
     "metadata": {},
     "output_type": "execute_result"
    },
    {
     "data": {
      "image/png": "[encoded data removed]",
      "text/plain": [
       "<matplotlib.figure.Figure at 0x7f001386e780>"
      ]
     },
     "metadata": {},
     "output_type": "display_data"
    }
   ],
   "source": [
    "plt.scatter(x_te, y_te)\n",
    "plt.scatter(x_te, yhat_te, c='r', alpha=0.2)"
   ]
  },
  {
   "cell_type": "code",
   "execution_count": 290,
   "metadata": {},
   "outputs": [],
   "source": [
    "# define optimization architecture\n",
    "tf.reset_default_graph()\n",
    "\n",
    "## x is now a trainable variable\n",
    "x_in = tf.Variable([[10.0]], dtype=tf.float32)\n",
    "## first hidden layer\n",
    "## note that parameters are now constant\n",
    "w1 = tf.constant(parameters['w1'], dtype=tf.float32, name=\"w1\")\n",
    "b1 = tf.constant(parameters['b1'], dtype=tf.float32, name=\"b1\")\n",
    "a1 = tf.nn.relu(tf.matmul(x_in, w1) + b1)\n",
    "#a1_drop = tf.nn.dropout(a1, keep_prob=keep_prob)  # no need anymore!\n",
    "\n",
    "## second hidden layer\n",
    "w2 = tf.constant(parameters['w2'], dtype=tf.float32, name=\"w2\")\n",
    "b2 = tf.constant(parameters['b2'], dtype=tf.float32, name=\"b2\")\n",
    "a2 = tf.nn.relu(tf.matmul(a1, w2) + b2)\n",
    "# a2_drop = tf.nn.dropout(a2, keep_prob=keep_prob)\n",
    "\n",
    "## output layer\n",
    "w3 = tf.constant(parameters['w3'], dtype=tf.float32, name=\"w3\")\n",
    "b3 = tf.constant(parameters['b3'], dtype=tf.float32, name=\"b3\")\n",
    "yhat = tf.matmul(a2, w3) + b3\n",
    "\n",
    "# normalize x back to the original scale\n",
    "x_mean = tf.placeholder(tf.float32, shape=(), name=\"x_mean\")\n",
    "x_std  = tf.placeholder(tf.float32, shape=(), name=\"x_std\")\n",
    "x_orig = x_in * x_std + x_mean\n",
    "\n",
    "y_mean = tf.placeholder(tf.float32, shape=(), name=\"y_mean\")\n",
    "y_std  = tf.placeholder(tf.float32, shape=(), name=\"y_std\")\n",
    "y_orig = yhat * y_std + y_mean\n",
    "\n",
    "\n",
    "## optimizer\n",
    "train_rate = tf.placeholder_with_default(0.2, shape=(), name=\"train_rate\")\n",
    "price= tf.placeholder(tf.float32, shape=(), name=\"price\")\n",
    "objective = price * x_orig - y_orig\n",
    "train = tf.train.GradientDescentOptimizer(train_rate).minimize(objective)"
   ]
  },
  {
   "cell_type": "code",
   "execution_count": 291,
   "metadata": {},
   "outputs": [
    {
     "name": "stdout",
     "output_type": "stream",
     "text": [
      "x star = 35.3955\n",
      "expected = 30.94046035325769\n"
     ]
    }
   ],
   "source": [
    "tf.set_random_seed(875)\n",
    "p = 0.25\n",
    "data = {train_rate: 0.5, price: p,\n",
    "        x_mean: standardizer.mean_[0], x_std: standardizer.var_[0]**0.5,\n",
    "        y_mean: standardizer.mean_[1], y_std: standardizer.var_[1]**0.5}\n",
    "\n",
    "nepoch = 300\n",
    "with tf.Session() as sess:\n",
    "    sess.run(tf.global_variables_initializer())\n",
    "    for i in range(nepoch):\n",
    "        sess.run(train, data)\n",
    "        \n",
    "    x_star = x_orig.eval(data)[0][0]\n",
    "print(\"x star =\", x_star)\n",
    "expected = (p/alpha)**(1/(alpha-1))\n",
    "print(\"expected =\", expected)\n"
   ]
  },
  {
   "cell_type": "markdown",
   "metadata": {},
   "source": [
    "### Two-input Cobb-Douglas Production\n",
    "\n",
    "We will generate a dummy data of $(K, L, Y)$ from $Y = K^\\alpha L^{1-\\alpha}$ and estimate $Y = f(K, L)$ by neural net. Then, we will maximize: $f(K, L)$ subject to $r K + w L = M$.\n",
    "\n",
    "This optimization problem has an analytic solution:\n",
    "\n",
    "$K^* = \\frac{\\alpha M}{r}, L^* = \\frac{(1-\\alpha)M}{w}$"
   ]
  },
  {
   "cell_type": "code",
   "execution_count": null,
   "metadata": {},
   "outputs": [],
   "source": []
  }
 ],
 "metadata": {
  "kernelspec": {
   "display_name": "Python 3",
   "language": "python",
   "name": "python3"
  },
  "language_info": {
   "codemirror_mode": {
    "name": "ipython",
    "version": 3
   },
   "file_extension": ".py",
   "mimetype": "text/x-python",
   "name": "python",
   "nbconvert_exporter": "python",
   "pygments_lexer": "ipython3",
   "version": "3.5.4"
  }
 },
 "nbformat": 4,
 "nbformat_minor": 2
}
