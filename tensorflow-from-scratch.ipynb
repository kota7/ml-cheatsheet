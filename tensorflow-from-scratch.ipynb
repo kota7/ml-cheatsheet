{
 "cells": [
  {
   "cell_type": "code",
   "execution_count": 275,
   "metadata": {},
   "outputs": [],
   "source": [
    "import tensorflow as tf\n",
    "import numpy as np\n",
    "import matplotlib.pyplot as plt\n",
    "import matplotlib.mlab as ml\n",
    "\n",
    "%matplotlib inline"
   ]
  },
  {
   "cell_type": "markdown",
   "metadata": {},
   "source": [
    "## Follow the official \"get started\" \n",
    "\n",
    "References:\n",
    "\n",
    "- https://www.tensorflow.org/get_started/get_started"
   ]
  },
  {
   "cell_type": "code",
   "execution_count": 276,
   "metadata": {},
   "outputs": [
    {
     "name": "stdout",
     "output_type": "stream",
     "text": [
      "Tensor(\"Const:0\", shape=(), dtype=float32)\n",
      "Tensor(\"Const_1:0\", shape=(), dtype=float32)\n",
      "()\n",
      "()\n"
     ]
    }
   ],
   "source": [
    "tf.reset_default_graph()   # remove the graphs already made.  \n",
    "                           # otherwise may cause name conflict\n",
    "\n",
    "#create scalar constant tensors\n",
    "# scalars are rank 0 tensor\n",
    "\n",
    "node1 = tf.constant(3.0, dtype=tf.float32)\n",
    "node2 = tf.constant(4.0, dtype=tf.float32)\n",
    "print(node1)\n",
    "print(node2)\n",
    "\n",
    "# shape is empty because they are scalars\n",
    "print(node1.get_shape())\n",
    "print(node2.get_shape())\n"
   ]
  },
  {
   "cell_type": "code",
   "execution_count": 277,
   "metadata": {},
   "outputs": [
    {
     "name": "stdout",
     "output_type": "stream",
     "text": [
      "[3.0, 4.0]\n",
      "[0, 0]\n"
     ]
    }
   ],
   "source": [
    "# tensors must be evaluated within a session\n",
    "# Session.run() takes tensors and evaluate them\n",
    "with tf.Session() as sess:\n",
    "    print(sess.run([node1, node2]))\n",
    "    \n",
    "# tf.rank() returns the rank of an object as a tensor\n",
    "# rank zero means a scalar\n",
    "with tf.Session() as sess:\n",
    "    print(sess.run([tf.rank(node1), tf.rank(node2)])) "
   ]
  },
  {
   "cell_type": "code",
   "execution_count": 278,
   "metadata": {},
   "outputs": [
    {
     "name": "stdout",
     "output_type": "stream",
     "text": [
      "Tensor(\"Add:0\", shape=(), dtype=float32)\n",
      "7.0\n"
     ]
    }
   ],
   "source": [
    "# tensors support a variety of operations\n",
    "# tf.add(x, y) creates a tensor that adds up two tensors x and y\n",
    "node3 = tf.add(node1, node2)\n",
    "print(node3)\n",
    "with tf.Session() as sess:\n",
    "    print(sess.run(node3))"
   ]
  },
  {
   "cell_type": "code",
   "execution_count": 279,
   "metadata": {},
   "outputs": [
    {
     "name": "stdout",
     "output_type": "stream",
     "text": [
      "2.0\n",
      "[  2.  14.]\n"
     ]
    }
   ],
   "source": [
    "# placeholders defines a tensor for which values are supplied later \n",
    "a = tf.placeholder(tf.float32)\n",
    "b = tf.placeholder(tf.float32)\n",
    "c = tf.add(a, b)\n",
    "with tf.Session() as sess:\n",
    "    print(sess.run(c, {a: -1.0, b: 3}))\n",
    "\n",
    "# vector values can be fed\n",
    "with tf.Session() as sess:\n",
    "    print(sess.run(c, {a: [-1.0, 10.0], b: [3.0, 4.0]}))"
   ]
  },
  {
   "cell_type": "code",
   "execution_count": 280,
   "metadata": {},
   "outputs": [
    {
     "name": "stdout",
     "output_type": "stream",
     "text": [
      "<tf.Variable 'weight:0' shape=(1,) dtype=float32_ref>\n",
      "<tf.Variable 'bias:0' shape=(1,) dtype=float32_ref>\n",
      "Tensor(\"Placeholder_2:0\", dtype=float32)\n",
      "Tensor(\"yhat:0\", dtype=float32)\n",
      "[ 0.          0.30000001  0.60000002  0.90000004]\n"
     ]
    }
   ],
   "source": [
    "# Variables are trainable parameters\n",
    "W = tf.Variable([0.3], dtype=tf.float32, name=\"weight\")\n",
    "b = tf.Variable([-0.3], dtype=tf.float32, name=\"bias\")\n",
    "x = tf.placeholder(tf.float32)\n",
    "yhat = tf.add(tf.multiply(W, x), b, name=\"yhat\")\n",
    "\n",
    "print(W)\n",
    "print(b)\n",
    "print(x)\n",
    "print(yhat)\n",
    "\n",
    "with tf.Session() as sess:\n",
    "    sess.run(tf.global_variables_initializer())\n",
    "    print(sess.run(yhat, {x: [1, 2, 3, 4]}))\n",
    "    "
   ]
  },
  {
   "cell_type": "code",
   "execution_count": 281,
   "metadata": {},
   "outputs": [
    {
     "name": "stdout",
     "output_type": "stream",
     "text": [
      "5.735\n",
      "0.015\n"
     ]
    }
   ],
   "source": [
    "# compare and train with true values\n",
    "y = tf.placeholder(tf.float32)\n",
    "loss = tf.reduce_mean(tf.square(tf.subtract(y, yhat)))\n",
    "\n",
    "with tf.Session() as sess:\n",
    "    sess.run(tf.global_variables_initializer())\n",
    "    print(sess.run(loss, {x: [1, 2, 3, 4], y: [0.1, -1.1, -1.8, -3.0]}))\n",
    "\n",
    "# set values mannually to W and b to improve the fit\n",
    "# `tf.assign()` defines an operation to change variable values\n",
    "# note that this does not happen until given to `run`\n",
    "fixW = tf.assign(W, [-1.0])\n",
    "fixb = tf.assign(b, [1.0])\n",
    "with tf.Session() as sess:\n",
    "    sess.run(tf.global_variables_initializer())\n",
    "    sess.run([fixW, fixb])\n",
    "    print(sess.run(loss, {x: [1, 2, 3, 4], y: [0.1, -1.1, -1.8, -3.0]}))\n"
   ]
  },
  {
   "cell_type": "code",
   "execution_count": 282,
   "metadata": {},
   "outputs": [
    {
     "name": "stdout",
     "output_type": "stream",
     "text": [
      "0.0135716\n",
      "[array([-0.97275525], dtype=float32), array([ 0.96989703], dtype=float32)]\n",
      "(array([-0.97275525], dtype=float32), array([ 0.96989703], dtype=float32))\n"
     ]
    }
   ],
   "source": [
    "# supervised training to find better variables values\n",
    "# `train` here defines an operation to reduces the loss by\n",
    "# the gradient descent\n",
    "# again, this shall be given to `run` to invoke it\n",
    "optimizer = tf.train.GradientDescentOptimizer(0.01)\n",
    "train = optimizer.minimize(loss)\n",
    "with tf.Session() as sess:\n",
    "    sess.run(tf.global_variables_initializer())\n",
    "    # update the variables for multiple times\n",
    "    for i in range(1000):\n",
    "        sess.run(train, {x: [1, 2, 3, 4], y: [0.1, -1.1, -1.8, -3.0]})\n",
    "    \n",
    "    print(sess.run(loss, {x: [1, 2, 3, 4], y: [0.1, -1.1, -1.8, -3.0]}))\n",
    "    print(sess.run([W, b]))\n",
    "    # or print the values by\n",
    "    print(W.eval(), b.eval())"
   ]
  },
  {
   "cell_type": "markdown",
   "metadata": {},
   "source": [
    "## Computation graph example\n",
    "\n",
    "References: \n",
    "\n",
    "- Saito, K (2016). Deep Learning from Scratch, O'Reilly Japan."
   ]
  },
  {
   "cell_type": "code",
   "execution_count": 283,
   "metadata": {},
   "outputs": [
    {
     "name": "stdout",
     "output_type": "stream",
     "text": [
      "Tensor(\"Placeholder:0\", dtype=float32)\n",
      "<tf.Variable 'Variable:0' shape=(1,) dtype=float32_ref>\n",
      "Tensor(\"Placeholder_1:0\", dtype=float32)\n",
      "<tf.Variable 'Variable_1:0' shape=(1,) dtype=float32_ref>\n",
      "<tf.Variable 'Variable_2:0' shape=(1,) dtype=float32_ref>\n",
      "Tensor(\"Add:0\", dtype=float32)\n",
      "Tensor(\"Add_1:0\", dtype=float32)\n",
      "[ 715.]\n"
     ]
    }
   ],
   "source": [
    "tf.reset_default_graph()\n",
    "\n",
    "# Fig 5-17. p.140\n",
    "num_apple    = tf.placeholder(tf.float32)\n",
    "price_apple  = tf.Variable([100.0], tf.float32)\n",
    "num_orange   = tf.placeholder(tf.float32)\n",
    "price_orange = tf.Variable([150.0], tf.float32)\n",
    "taxrate      = tf.Variable([0.1], tf.float32)\n",
    "\n",
    "pretax       = tf.add(tf.multiply(num_apple,  price_apple),\n",
    "                      tf.multiply(num_orange, price_orange))\n",
    "expenditure  = tf.add(pretax, tf.multiply(pretax, taxrate))\n",
    "print(num_apple)\n",
    "print(price_apple)\n",
    "print(num_orange)\n",
    "print(price_orange)\n",
    "print(taxrate)\n",
    "print(pretax)\n",
    "print(expenditure)\n",
    "\n",
    "with tf.Session() as sess:\n",
    "    sess.run(tf.global_variables_initializer())\n",
    "    print(sess.run(expenditure, {num_apple: 2, num_orange: 3}))"
   ]
  },
  {
   "cell_type": "code",
   "execution_count": 284,
   "metadata": {},
   "outputs": [
    {
     "name": "stdout",
     "output_type": "stream",
     "text": [
      "[<tf.Tensor 'gradients/Mul_grad/Reshape:0' shape=<unknown> dtype=float32>, <tf.Tensor 'gradients/Mul_grad/Reshape_1:0' shape=(1,) dtype=float32>, <tf.Tensor 'gradients/Mul_1_grad/Reshape:0' shape=<unknown> dtype=float32>, <tf.Tensor 'gradients/Mul_1_grad/Reshape_1:0' shape=(1,) dtype=float32>, <tf.Tensor 'gradients/Mul_2_grad/Reshape_1:0' shape=(1,) dtype=float32>]\n",
      "[110.0, array([ 2.20000005], dtype=float32), 165.0, array([ 3.30000019], dtype=float32), array([ 650.], dtype=float32)]\n"
     ]
    }
   ],
   "source": [
    "# compute the grandients\n",
    "# tf.gradients(y, x) to get dy/dx\n",
    "\n",
    "grads = tf.gradients(\n",
    "    expenditure, \n",
    "    [num_apple, price_apple, num_orange, price_orange, taxrate]\n",
    ")\n",
    "print(grads)\n",
    "with tf.Session() as sess:\n",
    "    sess.run(tf.global_variables_initializer())\n",
    "    print(sess.run(grads, {num_apple: 2, num_orange: 3}))"
   ]
  },
  {
   "cell_type": "markdown",
   "metadata": {},
   "source": [
    "## Minimizing quadratic functions"
   ]
  },
  {
   "cell_type": "code",
   "execution_count": 285,
   "metadata": {},
   "outputs": [
    {
     "name": "stdout",
     "output_type": "stream",
     "text": [
      "Tensor(\"Placeholder:0\", dtype=float32)\n",
      "Tensor(\"Placeholder_1:0\", dtype=float32)\n",
      "Tensor(\"Placeholder_2:0\", dtype=float32)\n",
      "<tf.Variable 'Variable:0' shape=() dtype=float32_ref>\n",
      "Tensor(\"add_1:0\", dtype=float32)\n",
      "[-4.999867, -9.499999]\n",
      "('expected: x = ', -5.0, 'y = ', -9.5)\n"
     ]
    }
   ],
   "source": [
    "tf.reset_default_graph()\n",
    "\n",
    "a = tf.placeholder(tf.float32)\n",
    "b = tf.placeholder(tf.float32)\n",
    "c = tf.placeholder(tf.float32)\n",
    "x = tf.Variable(0.0, tf.float32)\n",
    "\n",
    "y = a*x*x + b*x + c\n",
    "\n",
    "print(a)\n",
    "print(b)\n",
    "print(c)\n",
    "print(x)\n",
    "print(y)\n",
    "\n",
    "# find the mimimum\n",
    "optimizer = tf.train.GradientDescentOptimizer(0.1)\n",
    "train = optimizer.minimize(y)\n",
    "\n",
    "data = {a: 0.5, b: 5.0, c: 3.0}\n",
    "with tf.Session() as sess:\n",
    "    sess.run(tf.global_variables_initializer())\n",
    "    # update the variables for multiple times\n",
    "    for i in range(100):\n",
    "        sess.run(train, data)\n",
    "    \n",
    "    print(sess.run([x, y], data))\n",
    "\n",
    "# expected: x = -b/(2a)\n",
    "x_star = -data[b]/data[a]/2\n",
    "y_star = data[a]*x_star*x_star + data[b]*x_star + data[c]\n",
    "print(\"expected: x = \", x_star, \"y = \", y_star)"
   ]
  },
  {
   "cell_type": "markdown",
   "metadata": {},
   "source": [
    "## Estimating and maximizing a production function\n",
    "\n",
    "We will generate a dummy data of $(K, L, Y)$ from $Y = K^\\alpha L^{1-\\alpha}$ and estimate $Y = f(K, L)$ by neural net.  Then, we will maximize: $f(K, L)$ subject to $r K + w L = M$.\n",
    "\n",
    "This optimization problem has an analytic solution: \n",
    "\n",
    "$K^* = \\frac{\\alpha M}{r}, L^* = \\frac{(1-\\alpha)M}{w}$ \n",
    "\n",
    "We expect the optimization results are close to these."
   ]
  },
  {
   "cell_type": "code",
   "execution_count": 286,
   "metadata": {},
   "outputs": [
    {
     "data": {
      "text/plain": [
       "4.4408920985006262e-16"
      ]
     },
     "execution_count": 286,
     "metadata": {},
     "output_type": "execute_result"
    }
   ],
   "source": [
    "def cobb_douglas(K, L, alpha):\n",
    "    Y = np.power(K, alpha) * np.power(L, 1-alpha)\n",
    "    return Y\n",
    "\n",
    "def generate_cobb_douglas(N, alpha):\n",
    "    \"\"\"\n",
    "    Generate (K, L, Y) such that Y = K^alpha L^(1-alpha) \n",
    "    \n",
    "    K and L are generated from independent exponential distribution with mean 1\n",
    "    \n",
    "    N       : number of observation\n",
    "    alpha   : power to K\n",
    "    sigma   : standard deviation of epsilon \n",
    "    \"\"\"\n",
    "    K = np.random.exponential(1, (N,))\n",
    "    L = np.random.exponential(1, (N,))\n",
    "    Y = cobb_douglas(K, L, alpha)\n",
    "    \n",
    "    return K, L, Y\n",
    "\n",
    "Ks, Ls, Ys = generate_cobb_douglas(100, 0.3)\n",
    "\n",
    "# this should be very close to zero\n",
    "np.max(np.abs(np.log(Ys) - 0.3 * np.log(Ks) - 0.7 * np.log(Ls)))"
   ]
  },
  {
   "cell_type": "code",
   "execution_count": 287,
   "metadata": {},
   "outputs": [],
   "source": [
    "tf.reset_default_graph()\n",
    "\n",
    "# 4 layer full-connected neural net\n",
    "X  = tf.placeholder(tf.float32, shape=[None, 2])\n",
    "\n",
    "W1 = tf.get_variable(\"W1\", shape=[2, 20], initializer=tf.contrib.layers.xavier_initializer())\n",
    "b1 = tf.get_variable(\"b1\", shape=[20], initializer=tf.contrib.layers.xavier_initializer())\n",
    "A1 = tf.nn.relu(tf.matmul(X, W1) + b1)\n",
    "\n",
    "W2 = tf.get_variable(\"W2\", shape=[20, 20], initializer=tf.contrib.layers.xavier_initializer())\n",
    "b2 = tf.get_variable(\"b2\", shape=[20], initializer=tf.contrib.layers.xavier_initializer())\n",
    "A2 = tf.nn.relu(tf.matmul(A1, W2) + b2)\n",
    "\n",
    "W3 = tf.get_variable(\"W3\", shape=[20, 20], initializer=tf.contrib.layers.xavier_initializer())\n",
    "b3 = tf.get_variable(\"b3\", shape=[20], initializer=tf.contrib.layers.xavier_initializer())\n",
    "A3 = tf.nn.relu(tf.matmul(A2, W3) + b3)\n",
    "\n",
    "W4 = tf.get_variable(\"W4\", shape=[20, 1], initializer=tf.contrib.layers.xavier_initializer())\n",
    "b4 = tf.get_variable(\"b4\", shape=[1], initializer=tf.contrib.layers.xavier_initializer())\n",
    "O  = tf.matmul(A3, W4) + b4\n",
    "\n",
    "# squared error \n",
    "Y = tf.placeholder(tf.float32)    \n",
    "loss = tf.reduce_mean(tf.square(O - Y))\n",
    "\n",
    "# optimizer\n",
    "train = tf.train.GradientDescentOptimizer(0.2).minimize(loss)"
   ]
  },
  {
   "cell_type": "code",
   "execution_count": 288,
   "metadata": {},
   "outputs": [
    {
     "name": "stdout",
     "output_type": "stream",
     "text": [
      "(0, 0.48626566)\n",
      "(100, 0.043808833)\n",
      "(200, 0.023420934)\n",
      "(300, 0.015310642)\n",
      "(400, 0.012473741)\n",
      "(500, 0.011708)\n",
      "(600, 0.0095781991)\n",
      "(700, 0.0084641818)\n",
      "(800, 0.007907087)\n",
      "(900, 0.0072627114)\n",
      "(1000, 0.0065931031)\n",
      "(1100, 0.0059175347)\n",
      "(1200, 0.0051060449)\n",
      "(1300, 0.0051566693)\n",
      "(1400, 0.0045224228)\n",
      "(1500, 0.0038705813)\n",
      "(1600, 0.0039744577)\n",
      "(1700, 0.0035766168)\n",
      "(1800, 0.0033656771)\n",
      "(1900, 0.0033029255)\n",
      "0.00348947\n"
     ]
    }
   ],
   "source": [
    "Ks, Ls, Ys = generate_cobb_douglas(1000, 0.3)\n",
    "in_x = np.vstack((Ks, Ls)).transpose()\n",
    "in_y = Ys.reshape(1000, 1)\n",
    "\n",
    "data = {X: in_x, Y: in_y}\n",
    "\n",
    "with tf.Session() as sess:\n",
    "    sess.run(tf.global_variables_initializer())\n",
    "    for i in range(2000):\n",
    "        sess.run(train, feed_dict=data)\n",
    "        if i % 100 == 0:\n",
    "            print(i, sess.run(loss, data))\n",
    "    print(sess.run(loss, data))\n",
    "    \n",
    "    # generate (K, L, Y) from the model\n",
    "    Ks, Ls, Ys = generate_cobb_douglas(1000, 0.3)\n",
    "    Yhat = sess.run(O, {X: np.vstack((Ks, Ls)).transpose()})\n",
    "    \n",
    "    # keep the trained weights and biases\n",
    "    parameters = {\n",
    "        \"W1\": W1.eval(), \"b1\": b1.eval(),\n",
    "        \"W2\": W2.eval(), \"b2\": b2.eval(),\n",
    "        \"W3\": W3.eval(), \"b3\": b3.eval(),\n",
    "        \"W4\": W4.eval(), \"b4\": b4.eval(),\n",
    "    }\n",
    "    "
   ]
  },
  {
   "cell_type": "code",
   "execution_count": 289,
   "metadata": {},
   "outputs": [
    {
     "data": {
      "image/png": "[encoded data removed]",
      "text/plain": [
       "<matplotlib.figure.Figure at 0x18229a94d0>"
      ]
     },
     "metadata": {},
     "output_type": "display_data"
    },
    {
     "data": {
      "image/png": "[encoded data removed]",
      "text/plain": [
       "<matplotlib.figure.Figure at 0x182268a6d0>"
      ]
     },
     "metadata": {},
     "output_type": "display_data"
    },
    {
     "data": {
      "image/png": "[encoded data removed]",
      "text/plain": [
       "<matplotlib.figure.Figure at 0x18222e4750>"
      ]
     },
     "metadata": {},
     "output_type": "display_data"
    }
   ],
   "source": [
    "# plot the result\n",
    "plt.scatter(Ys, Yhat)\n",
    "plt.xlabel(\"true Y\")\n",
    "plt.ylabel(\"predicted Y\")\n",
    "plt.show()\n",
    "\n",
    "# contour plot\n",
    "def my_contour(x, y, z, xmin=0, xmax=4, nx=20, ymin=0, ymax=4, ny=20):\n",
    "    xi = np.linspace(xmin, xmax, nx)\n",
    "    yi = np.linspace(ymin, ymax, ny)\n",
    "    zi = ml.griddata(x, y, z, xi, yi, interp='linear')\n",
    "    \n",
    "    plt.contour(xi, yi, zi, 15, linewidths = 0.5, colors = 'k')\n",
    "    plt.show()\n",
    "my_contour(Ks, Ls, Ys)\n",
    "\n",
    "my_contour(Ks, Ls, Yhat.squeeze())\n"
   ]
  },
  {
   "cell_type": "code",
   "execution_count": 290,
   "metadata": {},
   "outputs": [],
   "source": [
    "tf.reset_default_graph()\n",
    "\n",
    "# create network for optimization\n",
    "\n",
    "# setting parameters \n",
    "M = tf.placeholder(tf.float32, shape=[1])\n",
    "r = tf.placeholder(tf.float32, shape=[1])\n",
    "w = tf.placeholder(tf.float32, shape=[1])\n",
    "\n",
    "# model weights, these are fixed in this exercise\n",
    "W1 = tf.constant(parameters[\"W1\"], dtype=tf.float32)\n",
    "b1 = tf.constant(parameters[\"b1\"], dtype=tf.float32)\n",
    "W2 = tf.constant(parameters[\"W2\"], dtype=tf.float32)\n",
    "b2 = tf.constant(parameters[\"b2\"], dtype=tf.float32)\n",
    "W3 = tf.constant(parameters[\"W3\"], dtype=tf.float32)\n",
    "b3 = tf.constant(parameters[\"b3\"], dtype=tf.float32)\n",
    "W4 = tf.constant(parameters[\"W4\"], dtype=tf.float32)\n",
    "b4 = tf.constant(parameters[\"b4\"], dtype=tf.float32)\n",
    "\n",
    "\n",
    "K = tf.Variable([0.5], dtype=tf.float32, name=\"K\")\n",
    "L = (M - r*K) / w\n",
    "\n",
    "X = tf.stack([K, L], axis=1)\n",
    "\n",
    "A1 = tf.nn.relu(tf.matmul(X, W1) + b1)\n",
    "A2 = tf.nn.relu(tf.matmul(A1, W2) + b2)\n",
    "A3 = tf.nn.relu(tf.matmul(A2, W3) + b3)\n",
    "O  = tf.squeeze(tf.matmul(A3, W4) + b4)\n",
    "\n",
    "optimizer = tf.train.GradientDescentOptimizer(0.1)\n",
    "train = optimizer.minimize(-1*O)"
   ]
  },
  {
   "cell_type": "code",
   "execution_count": 291,
   "metadata": {},
   "outputs": [
    {
     "name": "stdout",
     "output_type": "stream",
     "text": [
      "4.09278\n",
      "4.64351\n",
      "4.64713\n",
      "4.64295\n",
      "4.64767\n",
      "4.64238\n",
      "4.6482\n",
      "4.64181\n",
      "4.64874\n",
      "4.64125\n",
      "[array([ 1.45854604], dtype=float32), array([ 8.12436104], dtype=float32), 4.6406651]\n",
      "expected (K, L, Y) = (1.250000, 8.750000, 4.880661)\n"
     ]
    }
   ],
   "source": [
    "data = {M:[2.5], r :[0.6], w:[0.2]}\n",
    "\n",
    "with tf.Session() as sess:\n",
    "    sess.run(tf.global_variables_initializer())\n",
    "    for i in range(1000):\n",
    "        sess.run(train, data)\n",
    "        if i % 100 == 0:\n",
    "            print(sess.run(O, data))\n",
    "    print(sess.run([K, L, O], data))\n",
    "\n",
    "# Expected answer:\n",
    "#   K = alpha*M/r\n",
    "#   L = (1-alpha)*M/w\n",
    "alpha = 0.3\n",
    "M_ = data[M][0]\n",
    "r_ = data[r][0]\n",
    "w_ = data[w][0]\n",
    "K_star = alpha * M_ / r_\n",
    "L_star = (1-alpha) * M_ / w_\n",
    "Y_star = cobb_douglas(K_star, L_star, alpha)\n",
    "print(\"expected (K, L, Y) = (%f, %f, %f)\" % (K_star, L_star, Y_star))"
   ]
  },
  {
   "cell_type": "code",
   "execution_count": null,
   "metadata": {},
   "outputs": [],
   "source": [
    "\n"
   ]
  },
  {
   "cell_type": "code",
   "execution_count": null,
   "metadata": {},
   "outputs": [],
   "source": []
  }
 ],
 "metadata": {
  "kernelspec": {
   "display_name": "Python 2",
   "language": "python",
   "name": "python2"
  },
  "language_info": {
   "codemirror_mode": {
    "name": "ipython",
    "version": 2
   },
   "file_extension": ".py",
   "mimetype": "text/x-python",
   "name": "python",
   "nbconvert_exporter": "python",
   "pygments_lexer": "ipython2",
   "version": "2.7.14"
  }
 },
 "nbformat": 4,
 "nbformat_minor": 2
}
