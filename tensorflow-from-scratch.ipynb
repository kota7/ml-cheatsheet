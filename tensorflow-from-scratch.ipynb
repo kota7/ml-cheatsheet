{
 "cells": [
  {
   "cell_type": "code",
   "execution_count": 2,
   "metadata": {},
   "outputs": [],
   "source": [
    "import tensorflow as tf\n",
    "import numpy as np"
   ]
  },
  {
   "cell_type": "markdown",
   "metadata": {},
   "source": [
    "## Follow the official \"get started\" \n",
    "\n",
    "References:\n",
    "\n",
    "- https://www.tensorflow.org/get_started/get_started"
   ]
  },
  {
   "cell_type": "code",
   "execution_count": 33,
   "metadata": {},
   "outputs": [
    {
     "name": "stdout",
     "output_type": "stream",
     "text": [
      "Tensor(\"Const_2:0\", shape=(), dtype=float32)\n",
      "Tensor(\"Const_3:0\", shape=(), dtype=float32)\n",
      "()\n",
      "()\n"
     ]
    }
   ],
   "source": [
    "# create scalar constant tensors\n",
    "# scalars are rank 0 tensor\n",
    "\n",
    "node1 = tf.constant(3.0, dtype=tf.float32)\n",
    "node2 = tf.constant(4.0, dtype=tf.float32)\n",
    "print(node1)\n",
    "print(node2)\n",
    "\n",
    "# shape is empty because they are scalars\n",
    "print(node1.get_shape())\n",
    "print(node2.get_shape())\n"
   ]
  },
  {
   "cell_type": "code",
   "execution_count": 43,
   "metadata": {},
   "outputs": [
    {
     "name": "stdout",
     "output_type": "stream",
     "text": [
      "[3.0, 4.0]\n",
      "[0, 0]\n"
     ]
    }
   ],
   "source": [
    "# tensors must be evaluated within a session\n",
    "# Session.run() takes tensors and evaluate them\n",
    "with tf.Session() as sess:\n",
    "    print(sess.run([node1, node2]))\n",
    "    \n",
    "# tf.rank() returns the rank of an object as a tensor\n",
    "# rank zero means a scalar\n",
    "with tf.Session() as sess:\n",
    "    print(sess.run([tf.rank(node1), tf.rank(node2)])) "
   ]
  },
  {
   "cell_type": "code",
   "execution_count": 44,
   "metadata": {},
   "outputs": [
    {
     "name": "stdout",
     "output_type": "stream",
     "text": [
      "Tensor(\"Add_15:0\", shape=(), dtype=float32)\n",
      "7.0\n"
     ]
    }
   ],
   "source": [
    "# tensors support a variety of operations\n",
    "# tf.add(x, y) creates a tensor that adds up two tensors x and y\n",
    "node3 = tf.add(node1, node2)\n",
    "print(node3)\n",
    "with tf.Session() as sess:\n",
    "    print(sess.run(node3))"
   ]
  },
  {
   "cell_type": "code",
   "execution_count": 42,
   "metadata": {},
   "outputs": [
    {
     "name": "stdout",
     "output_type": "stream",
     "text": [
      "2.0\n",
      "[  2.  14.]\n"
     ]
    }
   ],
   "source": [
    "# placeholders defines a tensor for which values are supplied later \n",
    "a = tf.placeholder(tf.float32)\n",
    "b = tf.placeholder(tf.float32)\n",
    "c = tf.add(a, b)\n",
    "with tf.Session() as sess:\n",
    "    print(sess.run(c, {a: -1.0, b: 3}))\n",
    "\n",
    "# vector values can be fed\n",
    "with tf.Session() as sess:\n",
    "    print(sess.run(c, {a: [-1.0, 10.0], b: [3.0, 4.0]}))"
   ]
  },
  {
   "cell_type": "code",
   "execution_count": null,
   "metadata": {},
   "outputs": [],
   "source": [
    "# Variables are trainable parameters\n",
    "W = tf.Variable([0.3], dtype=tf.float32, name=\"weight\")\n",
    "b = tf.Variable([-0.3], dtype=tf.float32, name=\"bias\")\n",
    "x = tf.placeholder(tf.float32)\n",
    "yhat = tf.add(tf.multiply(W, x), b, name=\"yhat\")\n",
    "\n",
    "print(W)\n",
    "print(b)\n",
    "print(x)\n",
    "print(yhat)\n",
    "\n",
    "with tf.Session() as sess:\n",
    "    sess.run(tf.global_variables_initializer())\n",
    "    print(sess.run(yhat, {x: [1, 2, 3, 4]}))\n",
    "    "
   ]
  },
  {
   "cell_type": "code",
   "execution_count": 62,
   "metadata": {},
   "outputs": [
    {
     "name": "stdout",
     "output_type": "stream",
     "text": [
      "5.735\n",
      "0.015\n"
     ]
    }
   ],
   "source": [
    "# compare and train with true values\n",
    "y = tf.placeholder(tf.float32)\n",
    "loss = tf.reduce_mean(tf.square(tf.subtract(y, yhat)))\n",
    "\n",
    "with tf.Session() as sess:\n",
    "    sess.run(tf.global_variables_initializer())\n",
    "    print(sess.run(loss, {x: [1, 2, 3, 4], y: [0.1, -1.1, -1.8, -3.0]}))\n",
    "\n",
    "# set values mannually to W and b to improve the fit\n",
    "# `tf.assign()` defines an operation to change variable values\n",
    "# note that this does not happen until given to `run`\n",
    "fixW = tf.assign(W, [-1.0])\n",
    "fixb = tf.assign(b, [1.0])\n",
    "with tf.Session() as sess:\n",
    "    sess.run(tf.global_variables_initializer())\n",
    "    sess.run([fixW, fixb])\n",
    "    print(sess.run(loss, {x: [1, 2, 3, 4], y: [0.1, -1.1, -1.8, -3.0]}))\n"
   ]
  },
  {
   "cell_type": "code",
   "execution_count": 77,
   "metadata": {},
   "outputs": [
    {
     "name": "stdout",
     "output_type": "stream",
     "text": [
      "0.0135716\n",
      "[array([-0.97275525], dtype=float32), array([ 0.96989703], dtype=float32)]\n",
      "[-0.97275525] [ 0.96989703]\n"
     ]
    }
   ],
   "source": [
    "# supervised training to find better variables values\n",
    "# `train` here defines an operation to reduces the loss by\n",
    "# the gradient descent\n",
    "# again, this shall be given to `run` to invoke it\n",
    "optimizer = tf.train.GradientDescentOptimizer(0.01)\n",
    "train = optimizer.minimize(loss)\n",
    "with tf.Session() as sess:\n",
    "    sess.run(tf.global_variables_initializer())\n",
    "    # update the variables for multiple times\n",
    "    for i in range(1000):\n",
    "        sess.run(train, {x: [1, 2, 3, 4], y: [0.1, -1.1, -1.8, -3.0]})\n",
    "    \n",
    "    print(sess.run(loss, {x: [1, 2, 3, 4], y: [0.1, -1.1, -1.8, -3.0]}))\n",
    "    print(sess.run([W, b]))\n",
    "    # or print the values by\n",
    "    print(W.eval(), b.eval())"
   ]
  },
  {
   "cell_type": "markdown",
   "metadata": {},
   "source": [
    "## Computation graph example\n",
    "\n",
    "References: \n",
    "\n",
    "- Saito, K (2016). Deep Learning from Scratch, O'Reilly Japan."
   ]
  },
  {
   "cell_type": "code",
   "execution_count": 107,
   "metadata": {},
   "outputs": [
    {
     "name": "stdout",
     "output_type": "stream",
     "text": [
      "Tensor(\"Placeholder_53:0\", dtype=float32)\n",
      "<tf.Variable 'Variable_55:0' shape=(1,) dtype=float32_ref>\n",
      "Tensor(\"Placeholder_54:0\", dtype=float32)\n",
      "<tf.Variable 'Variable_56:0' shape=(1,) dtype=float32_ref>\n",
      "<tf.Variable 'Variable_57:0' shape=(1,) dtype=float32_ref>\n",
      "Tensor(\"Add_41:0\", dtype=float32)\n",
      "Tensor(\"Add_42:0\", dtype=float32)\n",
      "[ 715.]\n"
     ]
    }
   ],
   "source": [
    "# Fig 5-17. p.140\n",
    "num_apple    = tf.placeholder(tf.float32)\n",
    "price_apple  = tf.Variable([100.0], tf.float32)\n",
    "num_orange   = tf.placeholder(tf.float32)\n",
    "price_orange = tf.Variable([150.0], tf.float32)\n",
    "taxrate      = tf.Variable([0.1], tf.float32)\n",
    "\n",
    "pretax       = tf.add(tf.multiply(num_apple,  price_apple),\n",
    "                      tf.multiply(num_orange, price_orange))\n",
    "expenditure  = tf.add(pretax, tf.multiply(pretax, taxrate))\n",
    "print(num_apple)\n",
    "print(price_apple)\n",
    "print(num_orange)\n",
    "print(price_orange)\n",
    "print(taxrate)\n",
    "print(pretax)\n",
    "print(expenditure)\n",
    "\n",
    "with tf.Session() as sess:\n",
    "    sess.run(tf.global_variables_initializer())\n",
    "    print(sess.run(expenditure, {num_apple: 2, num_orange: 3}))"
   ]
  },
  {
   "cell_type": "code",
   "execution_count": 108,
   "metadata": {},
   "outputs": [
    {
     "name": "stdout",
     "output_type": "stream",
     "text": [
      "[<tf.Tensor 'gradients_23/Mul_48_grad/Reshape:0' shape=<unknown> dtype=float32>, <tf.Tensor 'gradients_23/Mul_48_grad/Reshape_1:0' shape=(1,) dtype=float32>, <tf.Tensor 'gradients_23/Mul_49_grad/Reshape:0' shape=<unknown> dtype=float32>, <tf.Tensor 'gradients_23/Mul_49_grad/Reshape_1:0' shape=(1,) dtype=float32>, <tf.Tensor 'gradients_23/Mul_50_grad/Reshape_1:0' shape=(1,) dtype=float32>]\n",
      "[110.0, array([ 2.20000005], dtype=float32), 165.0, array([ 3.30000019], dtype=float32), array([ 650.], dtype=float32)]\n"
     ]
    }
   ],
   "source": [
    "# compute the grandients\n",
    "# tf.gradients(y, x) to get dy/dx\n",
    "\n",
    "grads = tf.gradients(\n",
    "    expenditure, \n",
    "    [num_apple, price_apple, num_orange, price_orange, taxrate]\n",
    ")\n",
    "print(grads)\n",
    "with tf.Session() as sess:\n",
    "    sess.run(tf.global_variables_initializer())\n",
    "    print(sess.run(grads, {num_apple: 2, num_orange: 3}))"
   ]
  },
  {
   "cell_type": "markdown",
   "metadata": {},
   "source": [
    "## Minimizing quadratic functions"
   ]
  },
  {
   "cell_type": "code",
   "execution_count": 59,
   "metadata": {},
   "outputs": [
    {
     "name": "stdout",
     "output_type": "stream",
     "text": [
      "Tensor(\"Placeholder_7:0\", dtype=float32)\n",
      "Tensor(\"Placeholder_8:0\", dtype=float32)\n",
      "Tensor(\"Placeholder_9:0\", dtype=float32)\n",
      "<tf.Variable 'Variable:0' shape=() dtype=float32_ref>\n",
      "Tensor(\"add_1:0\", dtype=float32)\n",
      "[-4.999867, -9.499999]\n",
      "expected: x =  -5.0 y =  -9.5\n"
     ]
    }
   ],
   "source": [
    "a = tf.placeholder(tf.float32)\n",
    "b = tf.placeholder(tf.float32)\n",
    "c = tf.placeholder(tf.float32)\n",
    "x = tf.Variable(0.0, tf.float32)\n",
    "\n",
    "y = a*x*x + b*x + c\n",
    "\n",
    "print(a)\n",
    "print(b)\n",
    "print(c)\n",
    "print(x)\n",
    "print(y)\n",
    "\n",
    "# find the mimimum\n",
    "optimizer = tf.train.GradientDescentOptimizer(0.1)\n",
    "train = optimizer.minimize(y)\n",
    "\n",
    "data = {a: 0.5, b: 5.0, c: 3.0}\n",
    "with tf.Session() as sess:\n",
    "    sess.run(tf.global_variables_initializer())\n",
    "    # update the variables for multiple times\n",
    "    for i in range(100):\n",
    "        sess.run(train, data)\n",
    "    \n",
    "    print(sess.run([x, y], data))\n",
    "\n",
    "# expected: x = -b/(2a)\n",
    "x_star = -data[b]/data[a]/2\n",
    "y_star = data[a]*x_star*x_star + data[b]*x_star + data[c]\n",
    "print(\"expected: x = \", x_star, \"y = \", y_star)"
   ]
  },
  {
   "cell_type": "markdown",
   "metadata": {},
   "source": [
    "## Estimating and maximizing a production function\n",
    "\n",
    "We will generate a dummy data of $(K, L, Y)$ from $Y = K^\\alpha L^{1-\\alpha}$ and estimate $Y = f(K, L)$ by neural net.  Then, we will maximize: $f(K, L)$ subject to $r K + w L = 1$.\n",
    "\n",
    "This optimization problem has an analytic solution: \n",
    "\n",
    "$K^* = \\frac{\\alpha}{r}, L^* = \\frac{1-\\alpha}{w}$ \n",
    "\n",
    "We expect the optimization results are close to these."
   ]
  },
  {
   "cell_type": "code",
   "execution_count": 48,
   "metadata": {},
   "outputs": [
    {
     "data": {
      "text/plain": [
       "4.4408920985006262e-16"
      ]
     },
     "execution_count": 48,
     "metadata": {},
     "output_type": "execute_result"
    }
   ],
   "source": [
    "def generate_cobb_douglas(N, alpha):\n",
    "    \"\"\"\n",
    "    Generate (K, L, Y) such that Y = K^alpha L^(1-alpha) \n",
    "    \n",
    "    K and L are generated from independent exponential distribution with mean 1\n",
    "    \n",
    "    N       : number of observation\n",
    "    alpha   : power to K\n",
    "    sigma   : standard deviation of epsilon \n",
    "    \"\"\"\n",
    "    K = np.random.exponential(1, (N,))\n",
    "    L = np.random.exponential(1, (N,))\n",
    "    Y = np.power(K, alpha) * np.power(L, 1-alpha)\n",
    "    \n",
    "    return K, L, Y\n",
    "\n",
    "Ks, Ls, Ys = generate_cobb_douglas(100, 0.3)\n",
    "\n",
    "# this should be very close to zero\n",
    "np.max(np.abs(np.log(Ys) - 0.3 * np.log(Ks) - 0.7 * np.log(Ls)))"
   ]
  },
  {
   "cell_type": "code",
   "execution_count": 146,
   "metadata": {},
   "outputs": [],
   "source": [
    "# 3 layer full-connected neural net\n",
    "X  = tf.placeholder(tf.float32, shape=[None, 2])\n",
    "\n",
    "W1 = tf.Variable(tf.truncated_normal([2, 10], stddev=0.1), dtype=tf.float32)\n",
    "b1 = tf.Variable(tf.truncated_normal([10], stddev=0.1), dtype=tf.float32)\n",
    "A1 = tf.nn.relu(tf.matmul(X, W1) + b1)\n",
    "\n",
    "W2 = tf.Variable(tf.truncated_normal([10, 10], stddev=0.1), dtype=tf.float32)\n",
    "b2 = tf.Variable(tf.truncated_normal([10], stddev=0.1), dtype=tf.float32)\n",
    "A2 = tf.nn.relu(tf.matmul(A1, W2) + b2)\n",
    "\n",
    "W3 = tf.Variable(tf.truncated_normal([10, 10], stddev=0.1), dtype=tf.float32)\n",
    "b3 = tf.Variable(tf.truncated_normal([10], stddev=0.1), dtype=tf.float32)\n",
    "O  = tf.nn.relu(tf.matmul(A3, W3) + b3)\n",
    "\n",
    "# squared error \n",
    "Y = tf.placeholder(tf.float32)    \n",
    "loss = tf.reduce_mean(tf.square(O - Y))\n",
    "\n",
    "# optimizer\n",
    "train = tf.train.GradientDescentOptimizer(0.1).minimize(loss)"
   ]
  },
  {
   "cell_type": "code",
   "execution_count": 147,
   "metadata": {},
   "outputs": [
    {
     "ename": "InvalidArgumentError",
     "evalue": "You must feed a value for placeholder tensor 'Placeholder_39' with dtype float and shape [?,2]\n\t [[Node: Placeholder_39 = Placeholder[dtype=DT_FLOAT, shape=[?,2], _device=\"/job:localhost/replica:0/task:0/cpu:0\"]()]]\n\nCaused by op 'Placeholder_39', defined at:\n  File \"/home/kota/miniconda3/envs/nnet/lib/python3.5/runpy.py\", line 193, in _run_module_as_main\n    \"__main__\", mod_spec)\n  File \"/home/kota/miniconda3/envs/nnet/lib/python3.5/runpy.py\", line 85, in _run_code\n    exec(code, run_globals)\n  File \"/home/kota/miniconda3/envs/nnet/lib/python3.5/site-packages/ipykernel_launcher.py\", line 16, in <module>\n    app.launch_new_instance()\n  File \"/home/kota/miniconda3/envs/nnet/lib/python3.5/site-packages/traitlets/config/application.py\", line 658, in launch_instance\n    app.start()\n  File \"/home/kota/miniconda3/envs/nnet/lib/python3.5/site-packages/ipykernel/kernelapp.py\", line 477, in start\n    ioloop.IOLoop.instance().start()\n  File \"/home/kota/miniconda3/envs/nnet/lib/python3.5/site-packages/zmq/eventloop/ioloop.py\", line 177, in start\n    super(ZMQIOLoop, self).start()\n  File \"/home/kota/miniconda3/envs/nnet/lib/python3.5/site-packages/tornado/ioloop.py\", line 888, in start\n    handler_func(fd_obj, events)\n  File \"/home/kota/miniconda3/envs/nnet/lib/python3.5/site-packages/tornado/stack_context.py\", line 277, in null_wrapper\n    return fn(*args, **kwargs)\n  File \"/home/kota/miniconda3/envs/nnet/lib/python3.5/site-packages/zmq/eventloop/zmqstream.py\", line 440, in _handle_events\n    self._handle_recv()\n  File \"/home/kota/miniconda3/envs/nnet/lib/python3.5/site-packages/zmq/eventloop/zmqstream.py\", line 472, in _handle_recv\n    self._run_callback(callback, msg)\n  File \"/home/kota/miniconda3/envs/nnet/lib/python3.5/site-packages/zmq/eventloop/zmqstream.py\", line 414, in _run_callback\n    callback(*args, **kwargs)\n  File \"/home/kota/miniconda3/envs/nnet/lib/python3.5/site-packages/tornado/stack_context.py\", line 277, in null_wrapper\n    return fn(*args, **kwargs)\n  File \"/home/kota/miniconda3/envs/nnet/lib/python3.5/site-packages/ipykernel/kernelbase.py\", line 283, in dispatcher\n    return self.dispatch_shell(stream, msg)\n  File \"/home/kota/miniconda3/envs/nnet/lib/python3.5/site-packages/ipykernel/kernelbase.py\", line 235, in dispatch_shell\n    handler(stream, idents, msg)\n  File \"/home/kota/miniconda3/envs/nnet/lib/python3.5/site-packages/ipykernel/kernelbase.py\", line 399, in execute_request\n    user_expressions, allow_stdin)\n  File \"/home/kota/miniconda3/envs/nnet/lib/python3.5/site-packages/ipykernel/ipkernel.py\", line 196, in do_execute\n    res = shell.run_cell(code, store_history=store_history, silent=silent)\n  File \"/home/kota/miniconda3/envs/nnet/lib/python3.5/site-packages/ipykernel/zmqshell.py\", line 533, in run_cell\n    return super(ZMQInteractiveShell, self).run_cell(*args, **kwargs)\n  File \"/home/kota/miniconda3/envs/nnet/lib/python3.5/site-packages/IPython/core/interactiveshell.py\", line 2698, in run_cell\n    interactivity=interactivity, compiler=compiler, result=result)\n  File \"/home/kota/miniconda3/envs/nnet/lib/python3.5/site-packages/IPython/core/interactiveshell.py\", line 2802, in run_ast_nodes\n    if self.run_code(code, result):\n  File \"/home/kota/miniconda3/envs/nnet/lib/python3.5/site-packages/IPython/core/interactiveshell.py\", line 2862, in run_code\n    exec(code_obj, self.user_global_ns, self.user_ns)\n  File \"<ipython-input-126-fd5d0066d76f>\", line 2, in <module>\n    X  = tf.placeholder(tf.float32, shape=[None, 2])\n  File \"/home/kota/miniconda3/envs/nnet/lib/python3.5/site-packages/tensorflow/python/ops/array_ops.py\", line 1548, in placeholder\n    return gen_array_ops._placeholder(dtype=dtype, shape=shape, name=name)\n  File \"/home/kota/miniconda3/envs/nnet/lib/python3.5/site-packages/tensorflow/python/ops/gen_array_ops.py\", line 2094, in _placeholder\n    name=name)\n  File \"/home/kota/miniconda3/envs/nnet/lib/python3.5/site-packages/tensorflow/python/framework/op_def_library.py\", line 767, in apply_op\n    op_def=op_def)\n  File \"/home/kota/miniconda3/envs/nnet/lib/python3.5/site-packages/tensorflow/python/framework/ops.py\", line 2630, in create_op\n    original_op=self._default_original_op, op_def=op_def)\n  File \"/home/kota/miniconda3/envs/nnet/lib/python3.5/site-packages/tensorflow/python/framework/ops.py\", line 1204, in __init__\n    self._traceback = self._graph._extract_stack()  # pylint: disable=protected-access\n\nInvalidArgumentError (see above for traceback): You must feed a value for placeholder tensor 'Placeholder_39' with dtype float and shape [?,2]\n\t [[Node: Placeholder_39 = Placeholder[dtype=DT_FLOAT, shape=[?,2], _device=\"/job:localhost/replica:0/task:0/cpu:0\"]()]]\n",
     "output_type": "error",
     "traceback": [
      "\u001b[0;31m---------------------------------------------------------------------------\u001b[0m",
      "\u001b[0;31mInvalidArgumentError\u001b[0m                      Traceback (most recent call last)",
      "\u001b[0;32m~/miniconda3/envs/nnet/lib/python3.5/site-packages/tensorflow/python/client/session.py\u001b[0m in \u001b[0;36m_do_call\u001b[0;34m(self, fn, *args)\u001b[0m\n\u001b[1;32m   1326\u001b[0m     \u001b[0;32mtry\u001b[0m\u001b[0;34m:\u001b[0m\u001b[0;34m\u001b[0m\u001b[0m\n\u001b[0;32m-> 1327\u001b[0;31m       \u001b[0;32mreturn\u001b[0m \u001b[0mfn\u001b[0m\u001b[0;34m(\u001b[0m\u001b[0;34m*\u001b[0m\u001b[0margs\u001b[0m\u001b[0;34m)\u001b[0m\u001b[0;34m\u001b[0m\u001b[0m\n\u001b[0m\u001b[1;32m   1328\u001b[0m     \u001b[0;32mexcept\u001b[0m \u001b[0merrors\u001b[0m\u001b[0;34m.\u001b[0m\u001b[0mOpError\u001b[0m \u001b[0;32mas\u001b[0m \u001b[0me\u001b[0m\u001b[0;34m:\u001b[0m\u001b[0;34m\u001b[0m\u001b[0m\n",
      "\u001b[0;32m~/miniconda3/envs/nnet/lib/python3.5/site-packages/tensorflow/python/client/session.py\u001b[0m in \u001b[0;36m_run_fn\u001b[0;34m(session, feed_dict, fetch_list, target_list, options, run_metadata)\u001b[0m\n\u001b[1;32m   1305\u001b[0m                                    \u001b[0mfeed_dict\u001b[0m\u001b[0;34m,\u001b[0m \u001b[0mfetch_list\u001b[0m\u001b[0;34m,\u001b[0m \u001b[0mtarget_list\u001b[0m\u001b[0;34m,\u001b[0m\u001b[0;34m\u001b[0m\u001b[0m\n\u001b[0;32m-> 1306\u001b[0;31m                                    status, run_metadata)\n\u001b[0m\u001b[1;32m   1307\u001b[0m \u001b[0;34m\u001b[0m\u001b[0m\n",
      "\u001b[0;32m~/miniconda3/envs/nnet/lib/python3.5/contextlib.py\u001b[0m in \u001b[0;36m__exit__\u001b[0;34m(self, type, value, traceback)\u001b[0m\n\u001b[1;32m     65\u001b[0m             \u001b[0;32mtry\u001b[0m\u001b[0;34m:\u001b[0m\u001b[0;34m\u001b[0m\u001b[0m\n\u001b[0;32m---> 66\u001b[0;31m                 \u001b[0mnext\u001b[0m\u001b[0;34m(\u001b[0m\u001b[0mself\u001b[0m\u001b[0;34m.\u001b[0m\u001b[0mgen\u001b[0m\u001b[0;34m)\u001b[0m\u001b[0;34m\u001b[0m\u001b[0m\n\u001b[0m\u001b[1;32m     67\u001b[0m             \u001b[0;32mexcept\u001b[0m \u001b[0mStopIteration\u001b[0m\u001b[0;34m:\u001b[0m\u001b[0;34m\u001b[0m\u001b[0m\n",
      "\u001b[0;32m~/miniconda3/envs/nnet/lib/python3.5/site-packages/tensorflow/python/framework/errors_impl.py\u001b[0m in \u001b[0;36mraise_exception_on_not_ok_status\u001b[0;34m()\u001b[0m\n\u001b[1;32m    465\u001b[0m           \u001b[0mcompat\u001b[0m\u001b[0;34m.\u001b[0m\u001b[0mas_text\u001b[0m\u001b[0;34m(\u001b[0m\u001b[0mpywrap_tensorflow\u001b[0m\u001b[0;34m.\u001b[0m\u001b[0mTF_Message\u001b[0m\u001b[0;34m(\u001b[0m\u001b[0mstatus\u001b[0m\u001b[0;34m)\u001b[0m\u001b[0;34m)\u001b[0m\u001b[0;34m,\u001b[0m\u001b[0;34m\u001b[0m\u001b[0m\n\u001b[0;32m--> 466\u001b[0;31m           pywrap_tensorflow.TF_GetCode(status))\n\u001b[0m\u001b[1;32m    467\u001b[0m   \u001b[0;32mfinally\u001b[0m\u001b[0;34m:\u001b[0m\u001b[0;34m\u001b[0m\u001b[0m\n",
      "\u001b[0;31mInvalidArgumentError\u001b[0m: You must feed a value for placeholder tensor 'Placeholder_39' with dtype float and shape [?,2]\n\t [[Node: Placeholder_39 = Placeholder[dtype=DT_FLOAT, shape=[?,2], _device=\"/job:localhost/replica:0/task:0/cpu:0\"]()]]",
      "\nDuring handling of the above exception, another exception occurred:\n",
      "\u001b[0;31mInvalidArgumentError\u001b[0m                      Traceback (most recent call last)",
      "\u001b[0;32m<ipython-input-147-07fad46fb0f1>\u001b[0m in \u001b[0;36m<module>\u001b[0;34m()\u001b[0m\n\u001b[1;32m      8\u001b[0m     \u001b[0msess\u001b[0m\u001b[0;34m.\u001b[0m\u001b[0mrun\u001b[0m\u001b[0;34m(\u001b[0m\u001b[0mtf\u001b[0m\u001b[0;34m.\u001b[0m\u001b[0mglobal_variables_initializer\u001b[0m\u001b[0;34m(\u001b[0m\u001b[0;34m)\u001b[0m\u001b[0;34m)\u001b[0m\u001b[0;34m\u001b[0m\u001b[0m\n\u001b[1;32m      9\u001b[0m     \u001b[0;32mfor\u001b[0m \u001b[0m_\u001b[0m \u001b[0;32min\u001b[0m \u001b[0mrange\u001b[0m\u001b[0;34m(\u001b[0m\u001b[0;36m100\u001b[0m\u001b[0;34m)\u001b[0m\u001b[0;34m:\u001b[0m\u001b[0;34m\u001b[0m\u001b[0m\n\u001b[0;32m---> 10\u001b[0;31m         \u001b[0msess\u001b[0m\u001b[0;34m.\u001b[0m\u001b[0mrun\u001b[0m\u001b[0;34m(\u001b[0m\u001b[0mtrain\u001b[0m\u001b[0;34m,\u001b[0m \u001b[0mfeed_dict\u001b[0m\u001b[0;34m=\u001b[0m\u001b[0mdata\u001b[0m\u001b[0;34m)\u001b[0m\u001b[0;34m\u001b[0m\u001b[0m\n\u001b[0m\u001b[1;32m     11\u001b[0m         \u001b[0mprint\u001b[0m\u001b[0;34m(\u001b[0m\u001b[0msess\u001b[0m\u001b[0;34m.\u001b[0m\u001b[0mrun\u001b[0m\u001b[0;34m(\u001b[0m\u001b[0mloss\u001b[0m\u001b[0;34m)\u001b[0m\u001b[0;34m)\u001b[0m\u001b[0;34m\u001b[0m\u001b[0m\n\u001b[1;32m     12\u001b[0m     \u001b[0mprint\u001b[0m\u001b[0;34m(\u001b[0m\u001b[0msess\u001b[0m\u001b[0;34m.\u001b[0m\u001b[0mrun\u001b[0m\u001b[0;34m(\u001b[0m\u001b[0mloss\u001b[0m\u001b[0;34m)\u001b[0m\u001b[0;34m)\u001b[0m\u001b[0;34m\u001b[0m\u001b[0m\n",
      "\u001b[0;32m~/miniconda3/envs/nnet/lib/python3.5/site-packages/tensorflow/python/client/session.py\u001b[0m in \u001b[0;36mrun\u001b[0;34m(self, fetches, feed_dict, options, run_metadata)\u001b[0m\n\u001b[1;32m    893\u001b[0m     \u001b[0;32mtry\u001b[0m\u001b[0;34m:\u001b[0m\u001b[0;34m\u001b[0m\u001b[0m\n\u001b[1;32m    894\u001b[0m       result = self._run(None, fetches, feed_dict, options_ptr,\n\u001b[0;32m--> 895\u001b[0;31m                          run_metadata_ptr)\n\u001b[0m\u001b[1;32m    896\u001b[0m       \u001b[0;32mif\u001b[0m \u001b[0mrun_metadata\u001b[0m\u001b[0;34m:\u001b[0m\u001b[0;34m\u001b[0m\u001b[0m\n\u001b[1;32m    897\u001b[0m         \u001b[0mproto_data\u001b[0m \u001b[0;34m=\u001b[0m \u001b[0mtf_session\u001b[0m\u001b[0;34m.\u001b[0m\u001b[0mTF_GetBuffer\u001b[0m\u001b[0;34m(\u001b[0m\u001b[0mrun_metadata_ptr\u001b[0m\u001b[0;34m)\u001b[0m\u001b[0;34m\u001b[0m\u001b[0m\n",
      "\u001b[0;32m~/miniconda3/envs/nnet/lib/python3.5/site-packages/tensorflow/python/client/session.py\u001b[0m in \u001b[0;36m_run\u001b[0;34m(self, handle, fetches, feed_dict, options, run_metadata)\u001b[0m\n\u001b[1;32m   1122\u001b[0m     \u001b[0;32mif\u001b[0m \u001b[0mfinal_fetches\u001b[0m \u001b[0;32mor\u001b[0m \u001b[0mfinal_targets\u001b[0m \u001b[0;32mor\u001b[0m \u001b[0;34m(\u001b[0m\u001b[0mhandle\u001b[0m \u001b[0;32mand\u001b[0m \u001b[0mfeed_dict_tensor\u001b[0m\u001b[0;34m)\u001b[0m\u001b[0;34m:\u001b[0m\u001b[0;34m\u001b[0m\u001b[0m\n\u001b[1;32m   1123\u001b[0m       results = self._do_run(handle, final_targets, final_fetches,\n\u001b[0;32m-> 1124\u001b[0;31m                              feed_dict_tensor, options, run_metadata)\n\u001b[0m\u001b[1;32m   1125\u001b[0m     \u001b[0;32melse\u001b[0m\u001b[0;34m:\u001b[0m\u001b[0;34m\u001b[0m\u001b[0m\n\u001b[1;32m   1126\u001b[0m       \u001b[0mresults\u001b[0m \u001b[0;34m=\u001b[0m \u001b[0;34m[\u001b[0m\u001b[0;34m]\u001b[0m\u001b[0;34m\u001b[0m\u001b[0m\n",
      "\u001b[0;32m~/miniconda3/envs/nnet/lib/python3.5/site-packages/tensorflow/python/client/session.py\u001b[0m in \u001b[0;36m_do_run\u001b[0;34m(self, handle, target_list, fetch_list, feed_dict, options, run_metadata)\u001b[0m\n\u001b[1;32m   1319\u001b[0m     \u001b[0;32mif\u001b[0m \u001b[0mhandle\u001b[0m \u001b[0;32mis\u001b[0m \u001b[0;32mNone\u001b[0m\u001b[0;34m:\u001b[0m\u001b[0;34m\u001b[0m\u001b[0m\n\u001b[1;32m   1320\u001b[0m       return self._do_call(_run_fn, self._session, feeds, fetches, targets,\n\u001b[0;32m-> 1321\u001b[0;31m                            options, run_metadata)\n\u001b[0m\u001b[1;32m   1322\u001b[0m     \u001b[0;32melse\u001b[0m\u001b[0;34m:\u001b[0m\u001b[0;34m\u001b[0m\u001b[0m\n\u001b[1;32m   1323\u001b[0m       \u001b[0;32mreturn\u001b[0m \u001b[0mself\u001b[0m\u001b[0;34m.\u001b[0m\u001b[0m_do_call\u001b[0m\u001b[0;34m(\u001b[0m\u001b[0m_prun_fn\u001b[0m\u001b[0;34m,\u001b[0m \u001b[0mself\u001b[0m\u001b[0;34m.\u001b[0m\u001b[0m_session\u001b[0m\u001b[0;34m,\u001b[0m \u001b[0mhandle\u001b[0m\u001b[0;34m,\u001b[0m \u001b[0mfeeds\u001b[0m\u001b[0;34m,\u001b[0m \u001b[0mfetches\u001b[0m\u001b[0;34m)\u001b[0m\u001b[0;34m\u001b[0m\u001b[0m\n",
      "\u001b[0;32m~/miniconda3/envs/nnet/lib/python3.5/site-packages/tensorflow/python/client/session.py\u001b[0m in \u001b[0;36m_do_call\u001b[0;34m(self, fn, *args)\u001b[0m\n\u001b[1;32m   1338\u001b[0m         \u001b[0;32mexcept\u001b[0m \u001b[0mKeyError\u001b[0m\u001b[0;34m:\u001b[0m\u001b[0;34m\u001b[0m\u001b[0m\n\u001b[1;32m   1339\u001b[0m           \u001b[0;32mpass\u001b[0m\u001b[0;34m\u001b[0m\u001b[0m\n\u001b[0;32m-> 1340\u001b[0;31m       \u001b[0;32mraise\u001b[0m \u001b[0mtype\u001b[0m\u001b[0;34m(\u001b[0m\u001b[0me\u001b[0m\u001b[0;34m)\u001b[0m\u001b[0;34m(\u001b[0m\u001b[0mnode_def\u001b[0m\u001b[0;34m,\u001b[0m \u001b[0mop\u001b[0m\u001b[0;34m,\u001b[0m \u001b[0mmessage\u001b[0m\u001b[0;34m)\u001b[0m\u001b[0;34m\u001b[0m\u001b[0m\n\u001b[0m\u001b[1;32m   1341\u001b[0m \u001b[0;34m\u001b[0m\u001b[0m\n\u001b[1;32m   1342\u001b[0m   \u001b[0;32mdef\u001b[0m \u001b[0m_extend_graph\u001b[0m\u001b[0;34m(\u001b[0m\u001b[0mself\u001b[0m\u001b[0;34m)\u001b[0m\u001b[0;34m:\u001b[0m\u001b[0;34m\u001b[0m\u001b[0m\n",
      "\u001b[0;31mInvalidArgumentError\u001b[0m: You must feed a value for placeholder tensor 'Placeholder_39' with dtype float and shape [?,2]\n\t [[Node: Placeholder_39 = Placeholder[dtype=DT_FLOAT, shape=[?,2], _device=\"/job:localhost/replica:0/task:0/cpu:0\"]()]]\n\nCaused by op 'Placeholder_39', defined at:\n  File \"/home/kota/miniconda3/envs/nnet/lib/python3.5/runpy.py\", line 193, in _run_module_as_main\n    \"__main__\", mod_spec)\n  File \"/home/kota/miniconda3/envs/nnet/lib/python3.5/runpy.py\", line 85, in _run_code\n    exec(code, run_globals)\n  File \"/home/kota/miniconda3/envs/nnet/lib/python3.5/site-packages/ipykernel_launcher.py\", line 16, in <module>\n    app.launch_new_instance()\n  File \"/home/kota/miniconda3/envs/nnet/lib/python3.5/site-packages/traitlets/config/application.py\", line 658, in launch_instance\n    app.start()\n  File \"/home/kota/miniconda3/envs/nnet/lib/python3.5/site-packages/ipykernel/kernelapp.py\", line 477, in start\n    ioloop.IOLoop.instance().start()\n  File \"/home/kota/miniconda3/envs/nnet/lib/python3.5/site-packages/zmq/eventloop/ioloop.py\", line 177, in start\n    super(ZMQIOLoop, self).start()\n  File \"/home/kota/miniconda3/envs/nnet/lib/python3.5/site-packages/tornado/ioloop.py\", line 888, in start\n    handler_func(fd_obj, events)\n  File \"/home/kota/miniconda3/envs/nnet/lib/python3.5/site-packages/tornado/stack_context.py\", line 277, in null_wrapper\n    return fn(*args, **kwargs)\n  File \"/home/kota/miniconda3/envs/nnet/lib/python3.5/site-packages/zmq/eventloop/zmqstream.py\", line 440, in _handle_events\n    self._handle_recv()\n  File \"/home/kota/miniconda3/envs/nnet/lib/python3.5/site-packages/zmq/eventloop/zmqstream.py\", line 472, in _handle_recv\n    self._run_callback(callback, msg)\n  File \"/home/kota/miniconda3/envs/nnet/lib/python3.5/site-packages/zmq/eventloop/zmqstream.py\", line 414, in _run_callback\n    callback(*args, **kwargs)\n  File \"/home/kota/miniconda3/envs/nnet/lib/python3.5/site-packages/tornado/stack_context.py\", line 277, in null_wrapper\n    return fn(*args, **kwargs)\n  File \"/home/kota/miniconda3/envs/nnet/lib/python3.5/site-packages/ipykernel/kernelbase.py\", line 283, in dispatcher\n    return self.dispatch_shell(stream, msg)\n  File \"/home/kota/miniconda3/envs/nnet/lib/python3.5/site-packages/ipykernel/kernelbase.py\", line 235, in dispatch_shell\n    handler(stream, idents, msg)\n  File \"/home/kota/miniconda3/envs/nnet/lib/python3.5/site-packages/ipykernel/kernelbase.py\", line 399, in execute_request\n    user_expressions, allow_stdin)\n  File \"/home/kota/miniconda3/envs/nnet/lib/python3.5/site-packages/ipykernel/ipkernel.py\", line 196, in do_execute\n    res = shell.run_cell(code, store_history=store_history, silent=silent)\n  File \"/home/kota/miniconda3/envs/nnet/lib/python3.5/site-packages/ipykernel/zmqshell.py\", line 533, in run_cell\n    return super(ZMQInteractiveShell, self).run_cell(*args, **kwargs)\n  File \"/home/kota/miniconda3/envs/nnet/lib/python3.5/site-packages/IPython/core/interactiveshell.py\", line 2698, in run_cell\n    interactivity=interactivity, compiler=compiler, result=result)\n  File \"/home/kota/miniconda3/envs/nnet/lib/python3.5/site-packages/IPython/core/interactiveshell.py\", line 2802, in run_ast_nodes\n    if self.run_code(code, result):\n  File \"/home/kota/miniconda3/envs/nnet/lib/python3.5/site-packages/IPython/core/interactiveshell.py\", line 2862, in run_code\n    exec(code_obj, self.user_global_ns, self.user_ns)\n  File \"<ipython-input-126-fd5d0066d76f>\", line 2, in <module>\n    X  = tf.placeholder(tf.float32, shape=[None, 2])\n  File \"/home/kota/miniconda3/envs/nnet/lib/python3.5/site-packages/tensorflow/python/ops/array_ops.py\", line 1548, in placeholder\n    return gen_array_ops._placeholder(dtype=dtype, shape=shape, name=name)\n  File \"/home/kota/miniconda3/envs/nnet/lib/python3.5/site-packages/tensorflow/python/ops/gen_array_ops.py\", line 2094, in _placeholder\n    name=name)\n  File \"/home/kota/miniconda3/envs/nnet/lib/python3.5/site-packages/tensorflow/python/framework/op_def_library.py\", line 767, in apply_op\n    op_def=op_def)\n  File \"/home/kota/miniconda3/envs/nnet/lib/python3.5/site-packages/tensorflow/python/framework/ops.py\", line 2630, in create_op\n    original_op=self._default_original_op, op_def=op_def)\n  File \"/home/kota/miniconda3/envs/nnet/lib/python3.5/site-packages/tensorflow/python/framework/ops.py\", line 1204, in __init__\n    self._traceback = self._graph._extract_stack()  # pylint: disable=protected-access\n\nInvalidArgumentError (see above for traceback): You must feed a value for placeholder tensor 'Placeholder_39' with dtype float and shape [?,2]\n\t [[Node: Placeholder_39 = Placeholder[dtype=DT_FLOAT, shape=[?,2], _device=\"/job:localhost/replica:0/task:0/cpu:0\"]()]]\n"
     ]
    }
   ],
   "source": [
    "Ks, Ls, Ys = generate_cobb_douglas(100, 0.3)\n",
    "in_x = np.vstack((Ks, Ls)).transpose()\n",
    "in_y = Ys.reshape(100, 1)\n",
    "\n",
    "data = {X: in_x, Y: in_y}\n",
    "\n",
    "with tf.Session() as sess:\n",
    "    sess.run(tf.global_variables_initializer())\n",
    "    for _ in range(100):\n",
    "        sess.run(train, feed_dict=data)\n",
    "        print(sess.run(loss))\n",
    "    print(sess.run(loss))"
   ]
  },
  {
   "cell_type": "code",
   "execution_count": null,
   "metadata": {},
   "outputs": [],
   "source": []
  },
  {
   "cell_type": "code",
   "execution_count": 142,
   "metadata": {},
   "outputs": [
    {
     "name": "stdout",
     "output_type": "stream",
     "text": [
      "1.04032\n"
     ]
    }
   ],
   "source": [
    "a = tf.placeholder(tf.float32, shape=[None, 2], name=\"a\")\n",
    "s = tf.reduce_mean(a)\n",
    "d = {a: np.vstack((Ks, Ls)).transpose()}\n",
    "with tf.Session() as sess:\n",
    "    print(sess.run(s, d))"
   ]
  },
  {
   "cell_type": "code",
   "execution_count": 119,
   "metadata": {},
   "outputs": [
    {
     "data": {
      "text/plain": [
       "{<tf.Tensor 'x:0' shape=(?, 2) dtype=float32>: array([[ 1.42013198, -0.33339645],\n",
       "        [-0.27852431,  0.41698799],\n",
       "        [-0.18999681,  1.57584897],\n",
       "        [-1.30269705, -0.11279611],\n",
       "        [-1.27970328,  1.22636823],\n",
       "        [-1.08295306, -1.06615658],\n",
       "        [ 0.67871907,  2.26270686],\n",
       "        [ 1.11795212, -0.03750866],\n",
       "        [-3.19198343, -0.7514159 ],\n",
       "        [-1.76418003, -0.71878941],\n",
       "        [-0.24390842,  0.23197449],\n",
       "        [-0.07816966,  0.09565085],\n",
       "        [ 0.29544513, -1.12167588],\n",
       "        [-0.89361596, -0.8950144 ],\n",
       "        [ 0.32034957,  0.39183769],\n",
       "        [ 0.611329  , -0.31773639],\n",
       "        [-0.05108229,  0.58413104],\n",
       "        [ 2.15245247, -0.3263996 ],\n",
       "        [ 0.30240692, -0.05640359],\n",
       "        [ 1.63882231,  0.37254891],\n",
       "        [-0.5991681 , -1.20108367],\n",
       "        [ 0.70241323, -0.44715967],\n",
       "        [-0.185286  , -0.33194316],\n",
       "        [-0.60643069, -0.65566619],\n",
       "        [-0.46578149,  0.12067983],\n",
       "        [-0.32817437,  0.5600664 ],\n",
       "        [-0.83725985,  0.84211741],\n",
       "        [-0.60941613, -1.41034202],\n",
       "        [-0.5010748 ,  0.57267772],\n",
       "        [ 0.02978508,  0.49871371],\n",
       "        [ 0.45806322,  0.06409905],\n",
       "        [ 0.11947831,  0.35554488],\n",
       "        [-2.76258624,  0.29475278],\n",
       "        [-0.3617833 ,  0.74709839],\n",
       "        [ 0.23022747,  0.70365726],\n",
       "        [-1.49261361, -0.37330485],\n",
       "        [ 1.38478814, -1.00237519],\n",
       "        [ 0.18910646, -1.24252093],\n",
       "        [-0.07485442, -1.58346988],\n",
       "        [-0.96552369, -0.72424929],\n",
       "        [ 1.03019266, -1.1787653 ],\n",
       "        [ 1.88679324,  0.41941839],\n",
       "        [-0.90582969, -2.12878299],\n",
       "        [ 0.07184189,  0.30648614],\n",
       "        [ 1.53744542, -0.53349278],\n",
       "        [-0.72794376, -1.65217933],\n",
       "        [-0.70998726,  0.74267038],\n",
       "        [ 1.64725206,  1.78067166],\n",
       "        [ 0.58663144,  0.33125634],\n",
       "        [-1.18493055, -1.46222636],\n",
       "        [-0.28807226,  0.51755995],\n",
       "        [ 0.07075119,  0.50065824],\n",
       "        [ 1.10172218,  0.18931443],\n",
       "        [-0.2549105 ,  2.50449805],\n",
       "        [ 0.25644767, -0.19169815],\n",
       "        [ 1.36277324,  1.08347494],\n",
       "        [ 0.553322  ,  0.30694614],\n",
       "        [ 0.84160398, -1.18531532],\n",
       "        [-0.85489998,  0.92049317],\n",
       "        [ 0.63024731, -0.25049373],\n",
       "        [ 1.08027361,  0.04535881],\n",
       "        [ 0.82194449, -0.22970823],\n",
       "        [ 0.25179113,  0.12975624],\n",
       "        [-0.8321038 ,  0.46398726],\n",
       "        [-0.92272639,  0.77873356],\n",
       "        [-0.20850552,  0.05783008],\n",
       "        [ 1.8176456 , -1.44572976],\n",
       "        [ 0.61834539,  0.56287661],\n",
       "        [ 0.01972108, -1.0626123 ],\n",
       "        [ 0.34333343,  0.67617127],\n",
       "        [-1.48951411,  0.13441353],\n",
       "        [-0.43877971,  1.35028505],\n",
       "        [ 0.489823  , -0.97761317],\n",
       "        [ 2.33583858,  0.65531449],\n",
       "        [-0.35742383, -0.94701928],\n",
       "        [-0.4903363 ,  0.32585699],\n",
       "        [-1.14053621,  1.12303674],\n",
       "        [ 2.26800067,  1.99236039],\n",
       "        [-0.50931358,  1.45088161],\n",
       "        [ 1.91707695, -1.15958862],\n",
       "        [ 0.6193128 ,  0.30345127],\n",
       "        [-0.48117054, -0.31626977],\n",
       "        [ 0.02424592, -0.60186561],\n",
       "        [ 0.97031154, -1.3760885 ],\n",
       "        [ 1.04194887, -1.18846348],\n",
       "        [ 1.55739826, -0.78965591],\n",
       "        [-1.19663012, -0.58209773],\n",
       "        [-0.39669053, -0.62947164],\n",
       "        [-0.847699  ,  1.44589256],\n",
       "        [-1.45449482,  1.59373679],\n",
       "        [ 1.1521721 ,  0.32668964],\n",
       "        [ 1.75900532,  1.88982428],\n",
       "        [ 0.5141545 , -0.07613201],\n",
       "        [ 1.36808579, -0.19870539],\n",
       "        [ 0.47450062,  1.10636446],\n",
       "        [ 1.34515154, -1.45932092],\n",
       "        [ 0.11152507, -0.88090256],\n",
       "        [ 1.52181655,  1.14805947],\n",
       "        [-0.42589295, -0.1379298 ],\n",
       "        [ 0.16828048, -0.31756138]]),\n",
       " <tf.Tensor 'y:0' shape=(?, 1) dtype=float32>: array([[ 0.69533219],\n",
       "        [ 1.16213248],\n",
       "        [ 0.46906805],\n",
       "        [ 1.11897714],\n",
       "        [ 1.62642804],\n",
       "        [-1.93465775],\n",
       "        [-2.10420076],\n",
       "        [-0.04325368],\n",
       "        [ 1.0730755 ],\n",
       "        [ 2.20449496],\n",
       "        [ 0.58636981],\n",
       "        [ 0.98295273],\n",
       "        [ 1.77539076],\n",
       "        [-1.32366998],\n",
       "        [ 1.4983675 ],\n",
       "        [ 2.24089646],\n",
       "        [-0.28338688],\n",
       "        [ 1.99391285],\n",
       "        [ 0.7254148 ],\n",
       "        [ 0.58680839],\n",
       "        [-2.15365011],\n",
       "        [ 1.46053872],\n",
       "        [-0.16587444],\n",
       "        [-0.36598879],\n",
       "        [ 0.37215869],\n",
       "        [-0.06964035],\n",
       "        [-1.5517396 ],\n",
       "        [ 1.84250997],\n",
       "        [-0.15826186],\n",
       "        [ 0.92196323],\n",
       "        [-2.06605326],\n",
       "        [ 0.83400627],\n",
       "        [-1.20511672],\n",
       "        [ 0.48621621],\n",
       "        [ 0.87270534],\n",
       "        [-0.26515971],\n",
       "        [ 0.29893694],\n",
       "        [ 0.51221552],\n",
       "        [ 1.60739954],\n",
       "        [ 0.49123655],\n",
       "        [-2.85535669],\n",
       "        [-0.68125934],\n",
       "        [ 0.39051927],\n",
       "        [-2.20120069],\n",
       "        [-0.8738098 ],\n",
       "        [ 0.21325533],\n",
       "        [-1.93292043],\n",
       "        [-0.42291603],\n",
       "        [-1.64855477],\n",
       "        [-1.26994149],\n",
       "        [-0.97535653],\n",
       "        [-0.95189633],\n",
       "        [ 1.76013183],\n",
       "        [ 0.35167023],\n",
       "        [-1.40178419],\n",
       "        [-0.43603141],\n",
       "        [ 0.32682445],\n",
       "        [-1.99452003],\n",
       "        [ 1.80275707],\n",
       "        [ 0.31429754],\n",
       "        [-2.16912089],\n",
       "        [-0.29753798],\n",
       "        [-0.7930729 ],\n",
       "        [-2.04947635],\n",
       "        [-0.50432544],\n",
       "        [ 1.82518777],\n",
       "        [-1.31469858],\n",
       "        [-0.0815532 ],\n",
       "        [ 0.74356326],\n",
       "        [ 1.42871682],\n",
       "        [-0.96454238],\n",
       "        [ 0.40862014],\n",
       "        [ 1.9133546 ],\n",
       "        [ 0.77935924],\n",
       "        [-0.39406137],\n",
       "        [-0.90914299],\n",
       "        [ 0.76320692],\n",
       "        [-2.81211607],\n",
       "        [-0.2782854 ],\n",
       "        [ 1.12683635],\n",
       "        [ 0.66150733],\n",
       "        [-0.43003016],\n",
       "        [ 0.12297421],\n",
       "        [ 1.43856667],\n",
       "        [-1.21625726],\n",
       "        [ 0.28703313],\n",
       "        [ 0.49559332],\n",
       "        [-1.3459549 ],\n",
       "        [-1.57820204],\n",
       "        [ 1.25508042],\n",
       "        [-0.86705747],\n",
       "        [ 0.36988247],\n",
       "        [ 1.47420607],\n",
       "        [-0.21925477],\n",
       "        [-0.38830536],\n",
       "        [ 0.86658042],\n",
       "        [-0.78218223],\n",
       "        [-0.57200349],\n",
       "        [ 0.06555007],\n",
       "        [ 0.93932163]])}"
      ]
     },
     "execution_count": 119,
     "metadata": {},
     "output_type": "execute_result"
    }
   ],
   "source": [
    "data"
   ]
  },
  {
   "cell_type": "code",
   "execution_count": 101,
   "metadata": {},
   "outputs": [
    {
     "data": {
      "text/plain": [
       "(100, 1)"
      ]
     },
     "execution_count": 101,
     "metadata": {},
     "output_type": "execute_result"
    }
   ],
   "source": [
    "data[Y].shape"
   ]
  },
  {
   "cell_type": "code",
   "execution_count": 103,
   "metadata": {},
   "outputs": [
    {
     "name": "stdout",
     "output_type": "stream",
     "text": [
      "233.461\n"
     ]
    }
   ],
   "source": [
    "import tensorflow as tf\n",
    "import numpy as np\n",
    "\n",
    "x = tf.placeholder(tf.float32, shape=[None, 2])\n",
    "y_ = tf.placeholder(tf.float32, shape=[None, 2])\n",
    "loss = tf.reduce_sum(tf.abs(tf.subtract(x, y_)))#Function chosen arbitrarily\n",
    "input_x=np.random.randn(100, 2)#Random generation of variable x\n",
    "input_y=np.random.randn(100, 2)#Random generation of variable y\n",
    "\n",
    "with tf.Session() as sess:\n",
    "    print(sess.run(loss, feed_dict={x: input_x, y_: input_y}))"
   ]
  },
  {
   "cell_type": "code",
   "execution_count": 107,
   "metadata": {},
   "outputs": [
    {
     "data": {
      "text/plain": [
       "(100, 2)"
      ]
     },
     "execution_count": 107,
     "metadata": {},
     "output_type": "execute_result"
    }
   ],
   "source": [
    "input_x.shape\n",
    "input_y.shape"
   ]
  },
  {
   "cell_type": "code",
   "execution_count": null,
   "metadata": {},
   "outputs": [],
   "source": []
  }
 ],
 "metadata": {
  "kernelspec": {
   "display_name": "Python 3",
   "language": "python",
   "name": "python3"
  },
  "language_info": {
   "codemirror_mode": {
    "name": "ipython",
    "version": 3
   },
   "file_extension": ".py",
   "mimetype": "text/x-python",
   "name": "python",
   "nbconvert_exporter": "python",
   "pygments_lexer": "ipython3",
   "version": "3.5.4"
  }
 },
 "nbformat": 4,
 "nbformat_minor": 2
}
