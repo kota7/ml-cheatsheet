{
 "cells": [
  {
   "cell_type": "code",
   "execution_count": 78,
   "metadata": {},
   "outputs": [],
   "source": [
    "import tensorflow as tf"
   ]
  },
  {
   "cell_type": "markdown",
   "metadata": {},
   "source": [
    "## Follow the official \"get started\" \n",
    "\n",
    "References:\n",
    "\n",
    "- https://www.tensorflow.org/get_started/get_started"
   ]
  },
  {
   "cell_type": "code",
   "execution_count": 33,
   "metadata": {},
   "outputs": [
    {
     "name": "stdout",
     "output_type": "stream",
     "text": [
      "Tensor(\"Const_2:0\", shape=(), dtype=float32)\n",
      "Tensor(\"Const_3:0\", shape=(), dtype=float32)\n",
      "()\n",
      "()\n"
     ]
    }
   ],
   "source": [
    "# create scalar constant tensors\n",
    "# scalars are rank 0 tensor\n",
    "\n",
    "node1 = tf.constant(3.0, dtype=tf.float32)\n",
    "node2 = tf.constant(4.0, dtype=tf.float32)\n",
    "print(node1)\n",
    "print(node2)\n",
    "\n",
    "# shape is empty because they are scalars\n",
    "print(node1.get_shape())\n",
    "print(node2.get_shape())\n"
   ]
  },
  {
   "cell_type": "code",
   "execution_count": 43,
   "metadata": {},
   "outputs": [
    {
     "name": "stdout",
     "output_type": "stream",
     "text": [
      "[3.0, 4.0]\n",
      "[0, 0]\n"
     ]
    }
   ],
   "source": [
    "# tensors must be evaluated within a session\n",
    "# Session.run() takes tensors and evaluate them\n",
    "with tf.Session() as sess:\n",
    "    print(sess.run([node1, node2]))\n",
    "    \n",
    "# tf.rank() returns the rank of an object as a tensor\n",
    "# rank zero means a scalar\n",
    "with tf.Session() as sess:\n",
    "    print(sess.run([tf.rank(node1), tf.rank(node2)])) "
   ]
  },
  {
   "cell_type": "code",
   "execution_count": 44,
   "metadata": {},
   "outputs": [
    {
     "name": "stdout",
     "output_type": "stream",
     "text": [
      "Tensor(\"Add_15:0\", shape=(), dtype=float32)\n",
      "7.0\n"
     ]
    }
   ],
   "source": [
    "# tensors support a variety of operations\n",
    "# tf.add(x, y) creates a tensor that adds up two tensors x and y\n",
    "node3 = tf.add(node1, node2)\n",
    "print(node3)\n",
    "with tf.Session() as sess:\n",
    "    print(sess.run(node3))"
   ]
  },
  {
   "cell_type": "code",
   "execution_count": 42,
   "metadata": {},
   "outputs": [
    {
     "name": "stdout",
     "output_type": "stream",
     "text": [
      "2.0\n",
      "[  2.  14.]\n"
     ]
    }
   ],
   "source": [
    "# placeholders defines a tensor for which values are supplied later \n",
    "a = tf.placeholder(tf.float32)\n",
    "b = tf.placeholder(tf.float32)\n",
    "c = tf.add(a, b)\n",
    "with tf.Session() as sess:\n",
    "    print(sess.run(c, {a: -1.0, b: 3}))\n",
    "\n",
    "# vector values can be fed\n",
    "with tf.Session() as sess:\n",
    "    print(sess.run(c, {a: [-1.0, 10.0], b: [3.0, 4.0]}))"
   ]
  },
  {
   "cell_type": "code",
   "execution_count": null,
   "metadata": {},
   "outputs": [],
   "source": [
    "# Variables are trainable parameters\n",
    "W = tf.Variable([0.3], dtype=tf.float32, name=\"weight\")\n",
    "b = tf.Variable([-0.3], dtype=tf.float32, name=\"bias\")\n",
    "x = tf.placeholder(tf.float32)\n",
    "yhat = tf.add(tf.multiply(W, x), b, name=\"yhat\")\n",
    "\n",
    "print(W)\n",
    "print(b)\n",
    "print(x)\n",
    "print(yhat)\n",
    "\n",
    "with tf.Session() as sess:\n",
    "    sess.run(tf.global_variables_initializer())\n",
    "    print(sess.run(yhat, {x: [1, 2, 3, 4]}))\n",
    "    "
   ]
  },
  {
   "cell_type": "code",
   "execution_count": 62,
   "metadata": {},
   "outputs": [
    {
     "name": "stdout",
     "output_type": "stream",
     "text": [
      "5.735\n",
      "0.015\n"
     ]
    }
   ],
   "source": [
    "# compare and train with true values\n",
    "y = tf.placeholder(tf.float32)\n",
    "loss = tf.reduce_mean(tf.square(tf.subtract(y, yhat)))\n",
    "\n",
    "with tf.Session() as sess:\n",
    "    sess.run(tf.global_variables_initializer())\n",
    "    print(sess.run(loss, {x: [1, 2, 3, 4], y: [0.1, -1.1, -1.8, -3.0]}))\n",
    "\n",
    "# set values mannually to W and b to improve the fit\n",
    "# `tf.assign()` defines an operation to change variable values\n",
    "# note that this does not happen until given to `run`\n",
    "fixW = tf.assign(W, [-1.0])\n",
    "fixb = tf.assign(b, [1.0])\n",
    "with tf.Session() as sess:\n",
    "    sess.run(tf.global_variables_initializer())\n",
    "    sess.run([fixW, fixb])\n",
    "    print(sess.run(loss, {x: [1, 2, 3, 4], y: [0.1, -1.1, -1.8, -3.0]}))\n"
   ]
  },
  {
   "cell_type": "code",
   "execution_count": 77,
   "metadata": {},
   "outputs": [
    {
     "name": "stdout",
     "output_type": "stream",
     "text": [
      "0.0135716\n",
      "[array([-0.97275525], dtype=float32), array([ 0.96989703], dtype=float32)]\n",
      "[-0.97275525] [ 0.96989703]\n"
     ]
    }
   ],
   "source": [
    "# supervised training to find better variables values\n",
    "# `train` here defines an operation to reduces the loss by\n",
    "# the gradient descent\n",
    "# again, this shall be given to `run` to invoke it\n",
    "optimizer = tf.train.GradientDescentOptimizer(0.01)\n",
    "train = optimizer.minimize(loss)\n",
    "with tf.Session() as sess:\n",
    "    sess.run(tf.global_variables_initializer())\n",
    "    # update the variables for multiple times\n",
    "    for i in range(1000):\n",
    "        sess.run(train, {x: [1, 2, 3, 4], y: [0.1, -1.1, -1.8, -3.0]})\n",
    "    \n",
    "    print(sess.run(loss, {x: [1, 2, 3, 4], y: [0.1, -1.1, -1.8, -3.0]}))\n",
    "    print(sess.run([W, b]))\n",
    "    # or print the values by\n",
    "    print(W.eval(), b.eval())"
   ]
  },
  {
   "cell_type": "markdown",
   "metadata": {},
   "source": [
    "## Computation graph example\n",
    "\n",
    "References: \n",
    "\n",
    "- Saito, K (2016). Deep Learning from Scratch, O'Reilly Japan."
   ]
  },
  {
   "cell_type": "code",
   "execution_count": 107,
   "metadata": {},
   "outputs": [
    {
     "name": "stdout",
     "output_type": "stream",
     "text": [
      "Tensor(\"Placeholder_53:0\", dtype=float32)\n",
      "<tf.Variable 'Variable_55:0' shape=(1,) dtype=float32_ref>\n",
      "Tensor(\"Placeholder_54:0\", dtype=float32)\n",
      "<tf.Variable 'Variable_56:0' shape=(1,) dtype=float32_ref>\n",
      "<tf.Variable 'Variable_57:0' shape=(1,) dtype=float32_ref>\n",
      "Tensor(\"Add_41:0\", dtype=float32)\n",
      "Tensor(\"Add_42:0\", dtype=float32)\n",
      "[ 715.]\n"
     ]
    }
   ],
   "source": [
    "# Fig 5-17. p.140\n",
    "num_apple    = tf.placeholder(tf.float32)\n",
    "price_apple  = tf.Variable([100.0], tf.float32)\n",
    "num_orange   = tf.placeholder(tf.float32)\n",
    "price_orange = tf.Variable([150.0], tf.float32)\n",
    "taxrate      = tf.Variable([0.1], tf.float32)\n",
    "\n",
    "pretax       = tf.add(tf.multiply(num_apple,  price_apple),\n",
    "                      tf.multiply(num_orange, price_orange))\n",
    "expenditure  = tf.add(pretax, tf.multiply(pretax, taxrate))\n",
    "print(num_apple)\n",
    "print(price_apple)\n",
    "print(num_orange)\n",
    "print(price_orange)\n",
    "print(taxrate)\n",
    "print(pretax)\n",
    "print(expenditure)\n",
    "\n",
    "with tf.Session() as sess:\n",
    "    sess.run(tf.global_variables_initializer())\n",
    "    print(sess.run(expenditure, {num_apple: 2, num_orange: 3}))"
   ]
  },
  {
   "cell_type": "code",
   "execution_count": 108,
   "metadata": {},
   "outputs": [
    {
     "name": "stdout",
     "output_type": "stream",
     "text": [
      "[<tf.Tensor 'gradients_23/Mul_48_grad/Reshape:0' shape=<unknown> dtype=float32>, <tf.Tensor 'gradients_23/Mul_48_grad/Reshape_1:0' shape=(1,) dtype=float32>, <tf.Tensor 'gradients_23/Mul_49_grad/Reshape:0' shape=<unknown> dtype=float32>, <tf.Tensor 'gradients_23/Mul_49_grad/Reshape_1:0' shape=(1,) dtype=float32>, <tf.Tensor 'gradients_23/Mul_50_grad/Reshape_1:0' shape=(1,) dtype=float32>]\n",
      "[110.0, array([ 2.20000005], dtype=float32), 165.0, array([ 3.30000019], dtype=float32), array([ 650.], dtype=float32)]\n"
     ]
    }
   ],
   "source": [
    "# compute the grandients\n",
    "# tf.gradients(y, x) to get dy/dx\n",
    "\n",
    "grads = tf.gradients(\n",
    "    expenditure, \n",
    "    [num_apple, price_apple, num_orange, price_orange, taxrate]\n",
    ")\n",
    "print(grads)\n",
    "with tf.Session() as sess:\n",
    "    sess.run(tf.global_variables_initializer())\n",
    "    print(sess.run(grads, {num_apple: 2, num_orange: 3}))"
   ]
  },
  {
   "cell_type": "markdown",
   "metadata": {},
   "source": [
    "## Minimizing quadratic functions"
   ]
  },
  {
   "cell_type": "code",
   "execution_count": 123,
   "metadata": {},
   "outputs": [
    {
     "name": "stdout",
     "output_type": "stream",
     "text": [
      "Tensor(\"Placeholder_97:0\", dtype=float32)\n",
      "Tensor(\"Placeholder_98:0\", dtype=float32)\n",
      "Tensor(\"Placeholder_99:0\", dtype=float32)\n",
      "<tf.Variable 'Variable_72:0' shape=() dtype=float32_ref>\n",
      "Tensor(\"add_21:0\", dtype=float32)\n",
      "[-4.999867, -9.499999]\n",
      "expected: x =  -5.0 y =  -9.5\n"
     ]
    }
   ],
   "source": [
    "a = tf.placeholder(tf.float32)\n",
    "b = tf.placeholder(tf.float32)\n",
    "c = tf.placeholder(tf.float32)\n",
    "x = tf.Variable(0.0, tf.float32)\n",
    "\n",
    "y = a*x*x + b*x + c\n",
    "\n",
    "print(a)\n",
    "print(b)\n",
    "print(c)\n",
    "print(x)\n",
    "print(y)\n",
    "\n",
    "# find the mimimum\n",
    "optimizer = tf.train.GradientDescentOptimizer(0.1)\n",
    "train = optimizer.minimize(y)\n",
    "\n",
    "data = {a: 0.5, b: 5.0, c: 3.0}\n",
    "with tf.Session() as sess:\n",
    "    sess.run(tf.global_variables_initializer())\n",
    "    # update the variables for multiple times\n",
    "    for i in range(100):\n",
    "        sess.run(train, data)\n",
    "    \n",
    "    print(sess.run([x, y], data))\n",
    "\n",
    "# expected: x = -b/(2a)\n",
    "x_star = -data[b]/data[a]/2\n",
    "y_star = data[a]*x_star*x_star + data[b]*x_star + data[c]\n",
    "print(\"expected: x = \", x_star, \"y = \", y_star)"
   ]
  },
  {
   "cell_type": "code",
   "execution_count": null,
   "metadata": {},
   "outputs": [],
   "source": []
  }
 ],
 "metadata": {
  "kernelspec": {
   "display_name": "Python 3",
   "language": "python",
   "name": "python3"
  },
  "language_info": {
   "codemirror_mode": {
    "name": "ipython",
    "version": 3
   },
   "file_extension": ".py",
   "mimetype": "text/x-python",
   "name": "python",
   "nbconvert_exporter": "python",
   "pygments_lexer": "ipython3",
   "version": "3.5.4"
  }
 },
 "nbformat": 4,
 "nbformat_minor": 2
}
